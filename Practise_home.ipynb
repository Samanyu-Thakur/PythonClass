{
 "cells": [
  {
   "cell_type": "code",
   "execution_count": 13,
   "id": "decbde64",
   "metadata": {},
   "outputs": [
    {
     "name": "stdout",
     "output_type": "stream",
     "text": [
      "        1 \n",
      "      2 1 \n",
      "    3 2 1 \n",
      "  4 3 2 1 \n",
      "5 4 3 2 1 \n"
     ]
    }
   ],
   "source": [
    "for i in range(1, 5+1):\n",
    "    for j in range (5, 0 ,-1):\n",
    "        if j<=i:\n",
    "            print ( j, end=\" \")\n",
    "        else:\n",
    "            print(\" \",end=\" \")\n",
    "    print()"
   ]
  },
  {
   "cell_type": "code",
   "execution_count": 25,
   "id": "06429fcf",
   "metadata": {},
   "outputs": [
    {
     "name": "stdout",
     "output_type": "stream",
     "text": [
      "        1 \n",
      "      2 1 \n",
      "    3 2 1 \n",
      "  4 3 2 1 \n",
      "5 4 3 2 1 \n"
     ]
    }
   ],
   "source": [
    "n = int(input(\"Enter rows: \"))\n",
    "for i in range (1,n+1):\n",
    "    for j in range (n,0,-1):\n",
    "        if j<=i:\n",
    "            print(j, end=\" \" )\n",
    "        else:\n",
    "            print( \" \",end=\" \")\n",
    "    print()"
   ]
  },
  {
   "cell_type": "code",
   "execution_count": null,
   "id": "a28067c4",
   "metadata": {},
   "outputs": [
    {
     "name": "stdout",
     "output_type": "stream",
     "text": [
      "[3, 7, 8, 6, 1, 2]\n"
     ]
    }
   ],
   "source": [
    "lst = [3,4,6,1,2]\n",
    "lst[1:2] = [7,8] # added  7 and 8 in the index 1 and 2 \n",
    "print(lst)"
   ]
  },
  {
   "cell_type": "code",
   "execution_count": null,
   "id": "8112be58",
   "metadata": {},
   "outputs": [
    {
     "name": "stdout",
     "output_type": "stream",
     "text": [
      "9\n"
     ]
    }
   ],
   "source": [
    "def fn(x):\n",
    "    x +=[3,2]\n",
    "my_list = [1,2,3,4,7,87,83]# this list has 7 characters and the x has 2 the functiNon is adding the 2 characters of the x in the my_list and then the len function returns 9 \n",
    "fn(my_list)\n",
    "print(len(my_list))"
   ]
  },
  {
   "cell_type": "code",
   "execution_count": 26,
   "id": "4af8dbac",
   "metadata": {},
   "outputs": [
    {
     "name": "stdout",
     "output_type": "stream",
     "text": [
      "Yes\n"
     ]
    }
   ],
   "source": [
    "# palindrome\n",
    "n = int(input(\"Enter a no. \"))\n",
    "temp = n \n",
    "rev = 0\n",
    "while n > 0:\n",
    "    dig = n% 10 \n",
    "    rev = (rev*10)+ dig\n",
    "    n = n // 10\n",
    "if temp == rev:\n",
    "    print(\"Yes\")\n",
    "else:\n",
    "    print(\"no\")"
   ]
  }
 ],
 "metadata": {
  "kernelspec": {
   "display_name": ".venv (3.13.5)",
   "language": "python",
   "name": "python3"
  },
  "language_info": {
   "codemirror_mode": {
    "name": "ipython",
    "version": 3
   },
   "file_extension": ".py",
   "mimetype": "text/x-python",
   "name": "python",
   "nbconvert_exporter": "python",
   "pygments_lexer": "ipython3",
   "version": "3.13.5"
  }
 },
 "nbformat": 4,
 "nbformat_minor": 5
}
