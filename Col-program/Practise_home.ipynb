{
 "cells": [
  {
   "cell_type": "code",
   "execution_count": 13,
   "id": "decbde64",
   "metadata": {},
   "outputs": [
    {
     "name": "stdout",
     "output_type": "stream",
     "text": [
      "        1 \n",
      "      2 1 \n",
      "    3 2 1 \n",
      "  4 3 2 1 \n",
      "5 4 3 2 1 \n"
     ]
    }
   ],
   "source": [
    "for i in range(1, 5+1):\n",
    "    for j in range (5, 0 ,-1):\n",
    "        if j<=i:\n",
    "            print ( j, end=\" \")\n",
    "        else:\n",
    "            print(\" \",end=\" \")\n",
    "    print()"
   ]
  },
  {
   "cell_type": "code",
   "execution_count": 25,
   "id": "06429fcf",
   "metadata": {},
   "outputs": [
    {
     "name": "stdout",
     "output_type": "stream",
     "text": [
      "        1 \n",
      "      2 1 \n",
      "    3 2 1 \n",
      "  4 3 2 1 \n",
      "5 4 3 2 1 \n"
     ]
    }
   ],
   "source": [
    "n = int(input(\"Enter rows: \"))\n",
    "for i in range (1,n+1):\n",
    "    for j in range (n,0,-1):\n",
    "        if j<=i:\n",
    "            print(j, end=\" \" )\n",
    "        else:\n",
    "            print( \" \",end=\" \")\n",
    "    print()"
   ]
  },
  {
   "cell_type": "code",
   "execution_count": null,
   "id": "a28067c4",
   "metadata": {},
   "outputs": [
    {
     "name": "stdout",
     "output_type": "stream",
     "text": [
      "[3, 7, 8, 6, 1, 2]\n"
     ]
    }
   ],
   "source": [
    "lst = [3,4,6,1,2]\n",
    "lst[1:2] = [7,8] # added  7 and 8 in the index 1 and 2 \n",
    "print(lst)"
   ]
  },
  {
   "cell_type": "code",
   "execution_count": null,
   "id": "8112be58",
   "metadata": {},
   "outputs": [
    {
     "name": "stdout",
     "output_type": "stream",
     "text": [
      "9\n"
     ]
    }
   ],
   "source": [
    "def fn(x):\n",
    "    x +=[3,2]\n",
    "my_list = [1,2,3,4,7,87,83]# this list has 7 characters and the x has 2 the functiNon is adding the 2 characters of the x in the my_list and then the len function returns 9 \n",
    "fn(my_list)\n",
    "print(len(my_list))"
   ]
  },
  {
   "cell_type": "code",
   "execution_count": 26,
   "id": "4af8dbac",
   "metadata": {},
   "outputs": [
    {
     "name": "stdout",
     "output_type": "stream",
     "text": [
      "Yes\n"
     ]
    }
   ],
   "source": [
    "# palindrome\n",
    "n = int(input(\"Enter a no. \"))\n",
    "temp = n \n",
    "rev = 0\n",
    "while n > 0:\n",
    "    dig = n% 10 \n",
    "    rev = (rev*10)+ dig\n",
    "    n = n // 10\n",
    "if temp == rev:\n",
    "    print(\"Yes\")\n",
    "else:\n",
    "    print(\"no\")"
   ]
  },
  {
   "cell_type": "code",
   "execution_count": 5,
   "id": "bf3d42ed",
   "metadata": {},
   "outputs": [
    {
     "name": "stdout",
     "output_type": "stream",
     "text": [
      "yes\n"
     ]
    }
   ],
   "source": [
    "num = int(input(\"Enter a no. \"))\n",
    "temp = num\n",
    "sum = 0\n",
    "while temp > 0:\n",
    "        digit = temp % 10\n",
    "        sum+= digit ** 3\n",
    "        temp //= 10\n",
    "\n",
    "\n",
    "if num == sum :\n",
    "    print(\"yes\")\n",
    "else:\n",
    "    print(\"no\")\n"
   ]
  },
  {
   "cell_type": "code",
   "execution_count": 7,
   "id": "ba86cfb9",
   "metadata": {},
   "outputs": [
    {
     "name": "stdout",
     "output_type": "stream",
     "text": [
      "Armstrong number\n"
     ]
    }
   ],
   "source": [
    "# armstrong number\n",
    "num = int(input(\"Enter no.\"))\n",
    "sum = 0\n",
    "temp = num\n",
    "while temp > 0:\n",
    "    dig = temp % 10\n",
    "    sum += dig ** 3\n",
    "    temp //= 10\n",
    "if num == sum:\n",
    "    print(\"Armstrong number\")\n",
    "else:\n",
    "    print(\"Not Armstrong number\")"
   ]
  },
  {
   "cell_type": "code",
   "execution_count": 2,
   "id": "7cb83b5a",
   "metadata": {},
   "outputs": [
    {
     "name": "stdout",
     "output_type": "stream",
     "text": [
      "WOrkday\n"
     ]
    }
   ],
   "source": [
    "day = input(\"Enter day: \")# MoNday \n",
    "day = day.lower() # monday \n",
    "if day == \"monday\":\n",
    "    print(\"workday\")\n",
    "elif day == 'tuesday':\n",
    "    print(\"WOrkday\")\n",
    "else :\n",
    "    print(\"weekend\")"
   ]
  },
  {
   "cell_type": "markdown",
   "id": "2c1a21b2",
   "metadata": {},
   "source": [
    "LIST Practise"
   ]
  },
  {
   "cell_type": "code",
   "execution_count": 1,
   "id": "6960a0a6",
   "metadata": {},
   "outputs": [
    {
     "name": "stdout",
     "output_type": "stream",
     "text": [
      "List input\n",
      "['df', '', '']\n"
     ]
    }
   ],
   "source": [
    "def get_list():\n",
    "    my_list = []\n",
    "    while True:\n",
    "        item = input(\"Enter an item or type done \")\n",
    "        if item.lower() == 'done':\n",
    "            break\n",
    "        my_list.append(item)\n",
    "    return my_list\n",
    "\n",
    "\n",
    "print(\"List input\")\n",
    "mylist = get_list()\n",
    "print(mylist)\n",
    "    "
   ]
  },
  {
   "cell_type": "code",
   "execution_count": null,
   "id": "788ce55e",
   "metadata": {},
   "outputs": [],
   "source": [
    "def listtaker():\n",
    "    list = []\n",
    "    while True:\n",
    "        item = input(\"Enter item or done\")\n",
    "        if item.lower() == 'done':\n",
    "            break\n",
    "        list.append(item)\n",
    "    return list\n",
    "\n",
    "print(\"Welcome list \")\n",
    "mylist = listtaker()\n",
    "print(mylist)\n",
    "# taking length\n",
    "print(\"Lenght of string is \",len(mylist))\n",
    "print()"
   ]
  },
  {
   "cell_type": "code",
   "execution_count": 5,
   "id": "3950560d",
   "metadata": {},
   "outputs": [
    {
     "name": "stdout",
     "output_type": "stream",
     "text": [
      "--- List Creation ---\n",
      "list1: [1, 2, 3, 4, 5]\n",
      "list2: [0, 1, 2, 3, 4]\n",
      "list3: [0, 2, 4, 6, 8]\n",
      "list4: ['h', 'e', 'l', 'l', 'o']\n",
      "empty_list: []\n",
      "mixed_list: [1, 'hello', True, 3.14]\n",
      "\n",
      "--- Access & Slicing ---\n",
      "First element: 10\n",
      "Last element: 70\n",
      "Element at index 3: 40\n",
      "Slice [1:5]: [20, 30, 40, 50]\n",
      "Slice [:4]: [10, 20, 30, 40]\n",
      "Slice [2:]: [30, 40, 50, 60, 70]\n",
      "Slice [::2]: [10, 30, 50, 70]\n",
      "Reversed: [70, 60, 50, 40, 30, 20, 10]\n",
      "\n",
      "--- Operators ---\n",
      "Addition: [1, 2, 3, 4, 5, 6]\n",
      "Repetition: [1, 2, 3, 1, 2, 3]\n",
      "2 in listA: True\n",
      "8 not in listB: True\n",
      "Length of listA: 3\n",
      "Min of listA: 1\n",
      "Max of listA: 3\n",
      "\n",
      "--- Methods ---\n",
      "After append/insert/remove: [1, 2, 3]\n",
      "Popped value: 99\n",
      "After copy/extend/reverse/sort: [1, 2, 3, 7, 8]\n",
      "Count of 7: 1\n",
      "Index of 7: 3\n",
      "\n",
      "--- Looping ---\n",
      "Elements: [10, 20, 30]\n",
      "With index: [(0, 10), (1, 20), (2, 30)]\n",
      "\n",
      "--- Unpacking ---\n",
      "a, b, c: (1, 2, 3)\n",
      "Unpacked first, middle, last: (10, [20, 30, 40], 50)\n",
      "\n",
      "--- Nested Lists ---\n",
      "Matrix: [[1, 2], [3, 4], [5, 6]]\n",
      "First row: [1, 2]\n",
      "First element: 1\n",
      "First column: [1, 3, 5]\n"
     ]
    }
   ],
   "source": [
    "def list_creation():\n",
    "    \"\"\"Demonstrates various ways to create lists.\"\"\"\n",
    "    list1 = [1, 2, 3, 4, 5]\n",
    "    list2 = list(range(5))\n",
    "    list3 = [x * 2 for x in range(5)]\n",
    "    list4 = list(\"hello\")\n",
    "    empty_list = []\n",
    "    mixed_list = [1, \"hello\", True, 3.14]\n",
    "    return list1, list2, list3, list4, empty_list, mixed_list\n",
    "\n",
    "def list_access_and_slicing(my_list):\n",
    "    \"\"\"Demonstrates accessing elements and slicing lists.\"\"\"\n",
    "    first = my_list[0]              \n",
    "    last = my_list[-1]              \n",
    "    third = my_list[3]              \n",
    "    slice1 = my_list[1:5]           \n",
    "    slice2 = my_list[:4]            \n",
    "    slice3 = my_list[2:]            \n",
    "    slice4 = my_list[::2]           \n",
    "    reverse = my_list[::-1]         \n",
    "    return first, last, third, slice1, slice2, slice3, slice4, reverse\n",
    "\n",
    "def list_operators(listA, listB):\n",
    "    \"\"\"Demonstrates use of list operators.\"\"\"\n",
    "    add = listA + listB             \n",
    "    repeat = listA * 2              \n",
    "    in_elem = 2 in listA            \n",
    "    notin_elem = 8 not in listB     \n",
    "    length = len(listA)             \n",
    "    min_val = min(listA)            \n",
    "    max_val = max(listA)            \n",
    "    return add, repeat, in_elem, notin_elem, length, min_val, max_val\n",
    "\n",
    "def list_methods(my_list):\n",
    "    \"\"\"Demonstrates common list methods.\"\"\"\n",
    "    my_list_copy = my_list[:]       \n",
    "    my_list_copy.append(99)\n",
    "    my_list_copy.insert(1, 500)\n",
    "    popped = my_list_copy.pop()\n",
    "    my_list_copy.remove(500)\n",
    "    my_list_copy2 = my_list_copy.copy()\n",
    "    my_list_copy2.extend([7, 8])\n",
    "    my_list_copy2.reverse()\n",
    "    my_list_copy2.sort()\n",
    "    count = my_list_copy2.count(7)\n",
    "    idx = my_list_copy2.index(7) if 7 in my_list_copy2 else -1\n",
    "    return my_list_copy, popped, my_list_copy2, count, idx\n",
    "\n",
    "def list_looping(my_list):\n",
    "    \"\"\"Loops through a list in different ways.\"\"\"\n",
    "    elements = [x for x in my_list]\n",
    "    with_index = [(i, v) for i,v in enumerate(my_list)]\n",
    "    return elements, with_index\n",
    "\n",
    "def list_unpacking():\n",
    "    \"\"\"Unpacks elements from a list.\"\"\"\n",
    "    numbers = [1, 2, 3]\n",
    "    a, b, c = numbers\n",
    "    first, *middle, last = [10, 20, 30, 40, 50]\n",
    "    return a, b, c, first, middle, last\n",
    "\n",
    "def nested_lists():\n",
    "    \"\"\"Handles nested (2D) lists.\"\"\"\n",
    "    matrix = [[1, 2], [3, 4], [5, 6]]\n",
    "    first_row = matrix[0]\n",
    "    first_elem = matrix[0][0]\n",
    "    column1 = [row[0] for row in matrix]\n",
    "    return matrix, first_row, first_elem, column1\n",
    "\n",
    "if __name__ == \"__main__\":\n",
    "    print(\"--- List Creation ---\")\n",
    "    lists = list_creation()\n",
    "    print(\"list1:\", lists[0])\n",
    "    print(\"list2:\", lists[1])\n",
    "    print(\"list3:\", lists[2])\n",
    "    print(\"list4:\", lists[3])\n",
    "    print(\"empty_list:\", lists[4])\n",
    "    print(\"mixed_list:\", lists[5])\n",
    "    \n",
    "    print(\"\\n--- Access & Slicing ---\")\n",
    "    access_slice = list_access_and_slicing([10, 20, 30, 40, 50, 60, 70])\n",
    "    print(\"First element:\", access_slice[0])\n",
    "    print(\"Last element:\", access_slice[1])\n",
    "    print(\"Element at index 3:\", access_slice[2])\n",
    "    print(\"Slice [1:5]:\", access_slice[3])\n",
    "    print(\"Slice [:4]:\", access_slice[4])\n",
    "    print(\"Slice [2:]:\", access_slice[5])\n",
    "    print(\"Slice [::2]:\", access_slice[6])\n",
    "    print(\"Reversed:\", access_slice[7])\n",
    "  \n",
    "    print(\"\\n--- Operators ---\")\n",
    "    op_results = list_operators([1, 2, 3], [4, 5, 6])\n",
    "    print(\"Addition:\", op_results[0])\n",
    "    print(\"Repetition:\", op_results[1])\n",
    "    print(\"2 in listA:\", op_results[2])\n",
    "    print(\"8 not in listB:\", op_results[3])\n",
    "    print(\"Length of listA:\", op_results[4])\n",
    "    print(\"Min of listA:\", op_results[5])\n",
    "    print(\"Max of listA:\", op_results[6])\n",
    "  \n",
    "    print(\"\\n--- Methods ---\")\n",
    "    method_results = list_methods([1, 2, 3])\n",
    "    print(\"After append/insert/remove:\", method_results[0])\n",
    "    print(\"Popped value:\", method_results[1])\n",
    "    print(\"After copy/extend/reverse/sort:\", method_results[2])\n",
    "    print(\"Count of 7:\", method_results[3])\n",
    "    print(\"Index of 7:\", method_results[4])\n",
    "  \n",
    "    print(\"\\n--- Looping ---\")\n",
    "    looped = list_looping([10, 20, 30])\n",
    "    print(\"Elements:\", looped[0])\n",
    "    print(\"With index:\", looped[1])\n",
    "  \n",
    "    print(\"\\n--- Unpacking ---\")\n",
    "    unpacked = list_unpacking()\n",
    "    print(\"a, b, c:\", unpacked[:3])\n",
    "    print(\"Unpacked first, middle, last:\", unpacked[3:])\n",
    "  \n",
    "    print(\"\\n--- Nested Lists ---\")\n",
    "    nested = nested_lists()\n",
    "    print(\"Matrix:\", nested[0])\n",
    "    print(\"First row:\", nested[1])\n",
    "    print(\"First element:\", nested[2])\n",
    "    print(\"First column:\", nested[3])\n"
   ]
  },
  {
   "cell_type": "code",
   "execution_count": 9,
   "id": "6522eb1a",
   "metadata": {},
   "outputs": [
    {
     "name": "stdout",
     "output_type": "stream",
     "text": [
      "['s', 'd', 'f']\n"
     ]
    }
   ],
   "source": [
    "def my_list():\n",
    "    mylist = []\n",
    "    while True:\n",
    "        item = input(\"Enter list element or done\")\n",
    "        if item.lower() == 'done':\n",
    "            break\n",
    "        mylist.append(item)\n",
    "    return mylist\n",
    "\n",
    "myllist = my_list()\n",
    "print(myllist)\n",
    "\n",
    "\n"
   ]
  },
  {
   "cell_type": "code",
   "execution_count": 10,
   "id": "500e8b62",
   "metadata": {},
   "outputs": [
    {
     "name": "stdout",
     "output_type": "stream",
     "text": [
      "[1, 4, 5, 6, 6, 4]\n"
     ]
    }
   ],
   "source": [
    "list = [1,4,5,6,3,6,4]\n",
    "list.pop(4)#removed element from index 4\n",
    "print(list)"
   ]
  },
  {
   "cell_type": "code",
   "execution_count": 18,
   "id": "ad5d7a8d",
   "metadata": {},
   "outputs": [
    {
     "name": "stdout",
     "output_type": "stream",
     "text": [
      "Original list: ['5', '6', '4', '5', '4', '6', '7']\n",
      "List with duplicates removed: ['5', '6', '4', '7']\n"
     ]
    }
   ],
   "source": [
    "# Ask the user to enter elements separated by spaces\n",
    "user_input = input(\"Enter elements separated by spaces: \")\n",
    "\n",
    "# Split the input string into a list\n",
    "user_list = user_input.split()\n",
    "\n",
    "# Create an empty list to store unique elements\n",
    "unique_list = []\n",
    "\n",
    "# Loop through each item in the user_list\n",
    "for item in user_list:\n",
    "    # If the item is not already in unique_list, add it\n",
    "    if item not in unique_list:\n",
    "        unique_list.append(item)\n",
    "\n",
    "# Print the results\n",
    "print(\"Original list:\", user_list)\n",
    "print(\"List with duplicates removed:\", unique_list)\n"
   ]
  },
  {
   "cell_type": "code",
   "execution_count": 1,
   "id": "db583c29",
   "metadata": {},
   "outputs": [
    {
     "name": "stdout",
     "output_type": "stream",
     "text": [
      "Original list ['5', '5', '5', '8', '4', '9', '12', '12']\n",
      "Unique list  ['5', '8', '4', '9', '12']\n"
     ]
    }
   ],
   "source": [
    "def my_list():\n",
    "    mylist = []\n",
    "    while True:\n",
    "        item = input(\"Enter list element or done\")\n",
    "        if item.lower() == 'done':\n",
    "            break\n",
    "        mylist.append(item)\n",
    "    return mylist\n",
    "\n",
    "myllist = my_list()\n",
    "uni = []\n",
    "\n",
    "for item in myllist:\n",
    "    if item not in uni:\n",
    "        uni.append(item)\n",
    "\n",
    "print(\"Original list\", myllist)\n",
    "print(\"Unique list \", uni)\n"
   ]
  },
  {
   "cell_type": "markdown",
   "id": "cbccff44",
   "metadata": {},
   "source": [
    "IF CASES"
   ]
  },
  {
   "cell_type": "code",
   "execution_count": 5,
   "id": "51f3662b",
   "metadata": {},
   "outputs": [
    {
     "name": "stdout",
     "output_type": "stream",
     "text": [
      "1 \n",
      "1 2 \n",
      "1 2 3 \n",
      "1 2 3 4 \n",
      "1 2 3 4 5 \n",
      "1 2 3 4 5 6 \n"
     ]
    }
   ],
   "source": [
    "n = int(input(\"Enter no. of rows \"))\n",
    "for i in range (1 , n +1):\n",
    "    for j in range (1 , i+1):\n",
    "            print(j, end = \" \")\n",
    "    print()"
   ]
  },
  {
   "cell_type": "code",
   "execution_count": 1,
   "id": "7c35939d",
   "metadata": {},
   "outputs": [
    {
     "name": "stdout",
     "output_type": "stream",
     "text": [
      "1 \n",
      "2 3 \n",
      "4 5 6 \n",
      "7 8 9 10 \n",
      "11 12 13 14 15 \n",
      "16 17 18 19 20 21 \n"
     ]
    }
   ],
   "source": [
    "# each number in new line of triangle\n",
    "NUM = int(input(\"ENTER NO. :- \"))\n",
    "n = 1\n",
    "for i in range (1 , NUM + 1):\n",
    "    for j in range (1 , i + 1):\n",
    "        print (n , end = \" \")\n",
    "        n = n + 1\n",
    "    print() # for new line"
   ]
  }
 ],
 "metadata": {
  "kernelspec": {
   "display_name": ".venv (3.13.5)",
   "language": "python",
   "name": "python3"
  },
  "language_info": {
   "codemirror_mode": {
    "name": "ipython",
    "version": 3
   },
   "file_extension": ".py",
   "mimetype": "text/x-python",
   "name": "python",
   "nbconvert_exporter": "python",
   "pygments_lexer": "ipython3",
   "version": "3.13.5"
  }
 },
 "nbformat": 4,
 "nbformat_minor": 5
}
