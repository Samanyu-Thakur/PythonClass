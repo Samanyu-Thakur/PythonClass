{
 "cells": [
  {
   "cell_type": "code",
   "execution_count": 5,
   "id": "fe9b23dd",
   "metadata": {},
   "outputs": [
    {
     "name": "stdout",
     "output_type": "stream",
     "text": [
      "* * * * * \n",
      "* * * * * \n",
      "* * * * * \n",
      "* * * * * \n",
      "* * * * * \n"
     ]
    }
   ],
   "source": [
    "n = 5 \n",
    "for i in range (n):\n",
    "    for j in range (n):\n",
    "        print(\"*\", end=\" \")\n",
    "    print()"
   ]
  },
  {
   "cell_type": "code",
   "execution_count": 7,
   "id": "67954211",
   "metadata": {},
   "outputs": [
    {
     "name": "stdout",
     "output_type": "stream",
     "text": [
      "* \n",
      "* * \n",
      "* * * \n",
      "* * * * \n",
      "* * * * * \n"
     ]
    }
   ],
   "source": [
    "n = 5\n",
    "for i in range (n):\n",
    "    for j in range (i+1):\n",
    "        print(\"*\", end=\" \")\n",
    "    print()"
   ]
  },
  {
   "cell_type": "code",
   "execution_count": 9,
   "id": "370e0137",
   "metadata": {},
   "outputs": [
    {
     "name": "stdout",
     "output_type": "stream",
     "text": [
      "* * * * * \n",
      "* * * * \n",
      "* * * \n",
      "* * \n",
      "* \n"
     ]
    }
   ],
   "source": [
    "n = 5\n",
    "for i in range (n):\n",
    "    for j in range (i,n):\n",
    "        print(\"*\", end=\" \")\n",
    "    print()"
   ]
  },
  {
   "cell_type": "code",
   "execution_count": 12,
   "id": "0aa29f67",
   "metadata": {},
   "outputs": [
    {
     "name": "stdout",
     "output_type": "stream",
     "text": [
      "          * \n",
      "        * * \n",
      "      * * * \n",
      "    * * * * \n",
      "  * * * * * \n"
     ]
    }
   ],
   "source": [
    "# right sideed triangle\n",
    "n = int(input(\"Enter the number of rows: \"))\n",
    "for i in range (n):\n",
    "    for j in range (i,n):\n",
    "        print(\" \", end=\" \")\n",
    "    for k in range (i+1):\n",
    "        print(\"*\", end=\" \")\n",
    "    print()"
   ]
  },
  {
   "cell_type": "code",
   "execution_count": 28,
   "id": "e8f1672a",
   "metadata": {},
   "outputs": [
    {
     "name": "stdout",
     "output_type": "stream",
     "text": [
      "  * * * * * \n",
      "    * * * * \n",
      "      * * * \n",
      "        * * \n",
      "          * \n"
     ]
    }
   ],
   "source": [
    "n = int(input(\"Enter the number of rows: \"))\n",
    "for i in range (n):# rows\n",
    "    for j in range(i+1): # spaces\n",
    "        print(\" \", end=\" \")\n",
    "    for k in range (i,n):# stars\n",
    "        print(\"*\", end=\" \")\n",
    "    print() # new line"
   ]
  },
  {
   "cell_type": "code",
   "execution_count": null,
   "id": "6b4174d4",
   "metadata": {},
   "outputs": [
    {
     "name": "stdout",
     "output_type": "stream",
     "text": [
      "  0 0 0 0 0 \n",
      "    1 1 1 1 \n",
      "      2 2 2 \n",
      "        3 3 \n",
      "          4 \n"
     ]
    }
   ],
   "source": [
    "n = 5\n",
    "for i in range(n):# rows\n",
    "    for j in range (i+1): # spaces\n",
    "        print(\" \", end= \" \")\n",
    "    for k in range (i, n ): # columns \n",
    "        print(j,end = \" \")\n",
    "    print()\n"
   ]
  },
  {
   "cell_type": "code",
   "execution_count": 24,
   "id": "7a9253c0",
   "metadata": {},
   "outputs": [
    {
     "name": "stdout",
     "output_type": "stream",
     "text": [
      "          * \n",
      "        * * * \n",
      "      * * * * * \n",
      "    * * * * * * * \n",
      "  * * * * * * * * * \n"
     ]
    }
   ],
   "source": [
    "# for pyramid or hill we print one less cloumn by redcing ay one loop by 1 \n",
    "n = int(input(\"Enter the number of rows: \"))\n",
    "for i in range (n):\n",
    "    for j in range(i,n):\n",
    "        print(\" \", end=\" \" )\n",
    "    for k in range (i+1):\n",
    "        print(\"*\", end=\" \")\n",
    "    for j in range (i):\n",
    "        print(\"*\", end=\" \")\n",
    "    print()"
   ]
  },
  {
   "cell_type": "code",
   "execution_count": 7,
   "id": "9d6e58b0",
   "metadata": {},
   "outputs": [
    {
     "name": "stdout",
     "output_type": "stream",
     "text": [
      "          * \n",
      "        * * * \n",
      "      * * * * * \n",
      "    * * * * * * * \n",
      "  * * * * * * * * * \n",
      "  * * * * * * * * * \n",
      "    * * * * * * * \n",
      "      * * * * * \n",
      "        * * * \n",
      "          * \n"
     ]
    }
   ],
   "source": [
    "n = int(input(\"Enter no. of rows\"))\n",
    "for i in range (n):\n",
    "    for j in range (i,n):\n",
    "        print(\" \",end = \" \")\n",
    "    for j in range (i+1 ):\n",
    "        print(\"*\",end = \" \")\n",
    "    for j in range (i):\n",
    "        print(\"*\",end = \" \")\n",
    "    print()\n",
    "for i in range (n):\n",
    "    for j in range (i+1):\n",
    "        print(' ', end = \" \")\n",
    "    for j in range (i, n-1):\n",
    "        print(\"*\",end = \" \")\n",
    "    for j in range (i,n):\n",
    "        print(\"*\",end=\" \")\n",
    "    print()"
   ]
  },
  {
   "cell_type": "code",
   "execution_count": null,
   "id": "61ff993d",
   "metadata": {},
   "outputs": [],
   "source": []
  },
  {
   "cell_type": "code",
   "execution_count": 42,
   "id": "40e99be3",
   "metadata": {},
   "outputs": [
    {
     "name": "stdout",
     "output_type": "stream",
     "text": [
      " *********\n",
      "  *******\n",
      "   *****\n",
      "    ***\n",
      "     *\n"
     ]
    }
   ],
   "source": [
    "n = int(input(\"Enter row no.\"))\n",
    "for i in range (n):\n",
    "    for j in range (i+1):\n",
    "        print(\"\",end=\" \")\n",
    "    for j in range (i , n-1):\n",
    "        print(\"*\",end ='')\n",
    "    for j in range (i,n):\n",
    "        print (\"*\",end = \"\")\n",
    "    print()"
   ]
  },
  {
   "cell_type": "code",
   "execution_count": 2,
   "id": "effd3b62",
   "metadata": {},
   "outputs": [
    {
     "name": "stdout",
     "output_type": "stream",
     "text": [
      "        * \n",
      "      * * * \n",
      "    * * * * * \n",
      "  * * * * * * * \n",
      "  * * * * * * * \n",
      "    * * * * * \n",
      "      * * * \n",
      "        * \n"
     ]
    }
   ],
   "source": [
    "n = int(input(\"Enter the number of rows: \"))\n",
    "for i in range (n):\n",
    "    for j in range(i,n):\n",
    "        print(\" \", end=\" \" )\n",
    "    for j in range (i+1):\n",
    "        print(\"*\", end=\" \")\n",
    "    for j in range (i):\n",
    "        print(\"*\", end=\" \")\n",
    "    print()\n",
    "for i in range (n):\n",
    "    for j in range (i+1):\n",
    "        print(\" \",end=\" \")\n",
    "    for j in range (i , n-1):\n",
    "        print(\"*\",end =' ')\n",
    "    for j in range (i,n):\n",
    "        print (\"*\",end = \" \")\n",
    "    print()"
   ]
  },
  {
   "cell_type": "code",
   "execution_count": 12,
   "id": "077f36eb",
   "metadata": {},
   "outputs": [
    {
     "name": "stdout",
     "output_type": "stream",
     "text": [
      "No marks entered.\n"
     ]
    }
   ],
   "source": [
    "# Type your code here\n",
    "total_marks = 0\n",
    "num_subjects = 0\n",
    "\n",
    "while num_subjects> 7 :\n",
    "    marks = float(input(\"Enter marks for subject: \"))\n",
    "    total_marks += marks\n",
    "    num_subjects += 1\n",
    "\n",
    "    choice = input(\"Do you want to enter marks for another subject? (y/n): \")\n",
    "    if choice.lower() == 'n':\n",
    "        break\n",
    "\n",
    "if num_subjects > 0:\n",
    "    average = total_marks / num_subjects\n",
    "    print(f\"The average marks of the student are: {average}\")\n",
    "else:\n",
    "    print(\"No marks entered.\")\n"
   ]
  },
  {
   "cell_type": "code",
   "execution_count": null,
   "id": "5ed032df",
   "metadata": {},
   "outputs": [
    {
     "name": "stdout",
     "output_type": "stream",
     "text": [
      "the number is positive\n"
     ]
    }
   ],
   "source": [
    "# Type your code here\n",
    "no = float(input()) #read the number with input() method\n",
    "if no > 0 :\n",
    "     print(\"the number is positive\")\n",
    "elif no < 0:\n",
    "         print(\"the number is negative\")\n",
    "else :\n",
    "        print(\"the number is zero\")\n",
    "        "
   ]
  },
  {
   "cell_type": "code",
   "execution_count": 8,
   "id": "ce5afd72",
   "metadata": {},
   "outputs": [
    {
     "name": "stdout",
     "output_type": "stream",
     "text": [
      "Enter no. of days\n",
      "Years 1\n",
      "Weeks 0\n",
      "Days 365\n"
     ]
    }
   ],
   "source": [
    "print(\"Enter no. of days\")\n",
    "days = int(input())\n",
    "\n",
    "years = days // 365 \n",
    "weeks = (days % 365) // 7\n",
    "days_remaining = days - years*365 - weeks*7\n",
    "print('Years', years)\n",
    "print('Weeks',weeks)\n",
    "print('Days',days)"
   ]
  },
  {
   "cell_type": "code",
   "execution_count": 9,
   "id": "e97ec6e4",
   "metadata": {},
   "outputs": [
    {
     "name": "stdout",
     "output_type": "stream",
     "text": [
      "Jeff has a pet  dog and his name is  Rex\n",
      "Jeff has a pet dog and his name is Rex\n"
     ]
    }
   ],
   "source": [
    "person = 'Jeff'\n",
    "pet_name = 'Rex'\n",
    "pet_type = 'dog'\n",
    "\n",
    "print(person, 'has a pet ', pet_type, 'and his name is ', pet_name)\n",
    "print(f'{person} has a pet {pet_type} and his name is {pet_name}')"
   ]
  },
  {
   "cell_type": "code",
   "execution_count": 10,
   "id": "ce823083",
   "metadata": {},
   "outputs": [
    {
     "name": "stdout",
     "output_type": "stream",
     "text": [
      "['0,0', '0,1', '0,2', '0,3', '0,4', '1,0', '1,1', '1,2', '1,3', '1,4', '2,0', '2,1', '2,2', '2,3', '2,4', '3,0', '3,1', '3,2', '3,3', '3,4', '4,0', '4,1', '4,2', '4,3', '4,4']\n"
     ]
    }
   ],
   "source": [
    "coordinates = []\n",
    "\n",
    "for x in range (0,5):\n",
    "    for y in range (0,5):\n",
    "        c = str(x)+ ',' + str(y)\n",
    "        coordinates.append(c)\n",
    "\n",
    "print(coordinates)"
   ]
  },
  {
   "cell_type": "code",
   "execution_count": 21,
   "id": "396e864d",
   "metadata": {},
   "outputs": [
    {
     "name": "stdout",
     "output_type": "stream",
     "text": [
      "time taken 0.00011950000771321356\n",
      "no\n"
     ]
    }
   ],
   "source": [
    "import time \n",
    "\n",
    "num = int(input('Provide a number to test'))\n",
    "tic = time.perf_counter()\n",
    "prime = True\n",
    "\n",
    "for i in range(2, num):\n",
    "    if num %  i == 0:\n",
    "        prime = False\n",
    "        break\n",
    "\n",
    "toc = time.perf_counter()\n",
    "print('time taken', toc-tic)\n",
    " \n",
    "if prime == True:\n",
    "    print(num,'no. is prime')\n",
    "else :\n",
    "    print(\"no\")"
   ]
  },
  {
   "cell_type": "code",
   "execution_count": null,
   "id": "d1eebdbf",
   "metadata": {},
   "outputs": [
    {
     "name": "stdout",
     "output_type": "stream",
     "text": [
      "2 \n",
      "3 5 \n",
      "7 11 13 \n",
      "17 19 23 29 \n",
      "31 37 41 43 47 \n"
     ]
    }
   ],
   "source": [
    "def is_prime(num):\n",
    "    if num < 2:\n",
    "        return False \n",
    "    for i in range(2, int(num**0.5)+1):\n",
    "        if num % i == 0:\n",
    "            return False\n",
    "    return True\n",
    "\n",
    "rows = int(input(\"Enter number of rows: \"))\n",
    "current = 2\n",
    "for i in range(1, rows+1):\n",
    "    count = 0\n",
    "    while count < i:\n",
    "        if is_prime(current):\n",
    "            print(current, end=' ')\n",
    "            count += 1\n",
    "        current += 1\n",
    "    print()\n"
   ]
  },
  {
   "cell_type": "code",
   "execution_count": null,
   "id": "997f572d",
   "metadata": {},
   "outputs": [],
   "source": [
    "# functions and its types "
   ]
  }
 ],
 "metadata": {
  "kernelspec": {
   "display_name": ".venv (3.13.5)",
   "language": "python",
   "name": "python3"
  },
  "language_info": {
   "codemirror_mode": {
    "name": "ipython",
    "version": 3
   },
   "file_extension": ".py",
   "mimetype": "text/x-python",
   "name": "python",
   "nbconvert_exporter": "python",
   "pygments_lexer": "ipython3",
   "version": "3.13.5"
  }
 },
 "nbformat": 4,
 "nbformat_minor": 5
}
