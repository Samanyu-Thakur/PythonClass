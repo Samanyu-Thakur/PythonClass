{
 "cells": [
  {
   "cell_type": "code",
   "execution_count": null,
   "id": "fe9b23dd",
   "metadata": {},
   "outputs": [],
   "source": [
    "n = 5 \n",
    "for i in range (n):\n",
    "    for j in range (n):\n",
    "        print(\"*\", end=\" \")\n",
    "    print()"
   ]
  },
  {
   "cell_type": "code",
   "execution_count": null,
   "id": "67954211",
   "metadata": {},
   "outputs": [],
   "source": [
    "n = 5\n",
    "for i in range (n):\n",
    "    for j in range (i+1):\n",
    "        print(\"*\", end=\" \")\n",
    "    print()"
   ]
  },
  {
   "cell_type": "code",
   "execution_count": null,
   "id": "370e0137",
   "metadata": {},
   "outputs": [],
   "source": [
    "n = 5\n",
    "for i in range (n):\n",
    "    for j in range (i,n):\n",
    "        print(\"*\", end=\" \")\n",
    "    print()"
   ]
  },
  {
   "cell_type": "code",
   "execution_count": null,
   "id": "0aa29f67",
   "metadata": {},
   "outputs": [],
   "source": [
    "# right sideed triangle\n",
    "n = int(input(\"Enter the number of rows: \"))\n",
    "for i in range (n):\n",
    "    for j in range (i,n):\n",
    "        print(\" \", end=\" \")\n",
    "    for k in range (i+1):\n",
    "        print(\"*\", end=\" \")\n",
    "    print()"
   ]
  },
  {
   "cell_type": "code",
   "execution_count": null,
   "id": "e8f1672a",
   "metadata": {},
   "outputs": [],
   "source": [
    "n = int(input(\"Enter the number of rows: \"))\n",
    "for i in range (n):# rows\n",
    "    for j in range(i+1): # spaces\n",
    "        print(\" \", end=\" \")\n",
    "    for k in range (i,n):# stars\n",
    "        print(\"*\", end=\" \")\n",
    "    print() # new line"
   ]
  },
  {
   "cell_type": "code",
   "execution_count": null,
   "id": "6b4174d4",
   "metadata": {},
   "outputs": [],
   "source": [
    "n = 5\n",
    "for i in range(n):# rows\n",
    "    for j in range (i+1): # spaces\n",
    "        print(\" \", end= \" \")\n",
    "    for k in range (i, n ): # columns \n",
    "        print(j,end = \" \")\n",
    "    print()\n"
   ]
  },
  {
   "cell_type": "code",
   "execution_count": null,
   "id": "7a9253c0",
   "metadata": {},
   "outputs": [],
   "source": [
    "# for pyramid or hill we print one less cloumn by redcing ay one loop by 1 \n",
    "n = int(input(\"Enter the number of rows: \"))\n",
    "for i in range (n):\n",
    "    for j in range(i,n):\n",
    "        print(\" \", end=\" \" )\n",
    "    for k in range (i+1):\n",
    "        print(\"*\", end=\" \")\n",
    "    for j in range (i):\n",
    "        print(\"*\", end=\" \")\n",
    "    print()"
   ]
  },
  {
   "cell_type": "code",
   "execution_count": null,
   "id": "9d6e58b0",
   "metadata": {},
   "outputs": [],
   "source": [
    "n = int(input(\"Enter no. of rows\"))\n",
    "for i in range (n):\n",
    "    for j in range (i,n):\n",
    "        print(\" \",end = \" \")\n",
    "    for j in range (i+1 ):\n",
    "        print(\"*\",end = \" \")\n",
    "    for j in range (i):\n",
    "        print(\"*\",end = \" \")\n",
    "    print()\n",
    "for i in range (n):\n",
    "    for j in range (i+1):\n",
    "        print(' ', end = \" \")\n",
    "    for j in range (i, n-1):\n",
    "        print(\"*\",end = \" \")\n",
    "    for j in range (i,n):\n",
    "        print(\"*\",end=\" \")\n",
    "    print()"
   ]
  },
  {
   "cell_type": "code",
   "execution_count": null,
   "id": "61ff993d",
   "metadata": {},
   "outputs": [],
   "source": []
  },
  {
   "cell_type": "code",
   "execution_count": null,
   "id": "40e99be3",
   "metadata": {},
   "outputs": [],
   "source": [
    "n = int(input(\"Enter row no.\"))\n",
    "for i in range (n):\n",
    "    for j in range (i+1):\n",
    "        print(\"\",end=\" \")\n",
    "    for j in range (i , n-1):\n",
    "        print(\"*\",end ='')\n",
    "    for j in range (i,n):\n",
    "        print (\"*\",end = \"\")\n",
    "    print()"
   ]
  },
  {
   "cell_type": "code",
   "execution_count": null,
   "id": "effd3b62",
   "metadata": {},
   "outputs": [],
   "source": [
    "n = int(input(\"Enter the number of rows: \"))\n",
    "for i in range (n):\n",
    "    for j in range(i,n):\n",
    "        print(\" \", end=\" \" )\n",
    "    for j in range (i+1):\n",
    "        print(\"*\", end=\" \")\n",
    "    for j in range (i):\n",
    "        print(\"*\", end=\" \")\n",
    "    print()\n",
    "for i in range (n):\n",
    "    for j in range (i+1):\n",
    "        print(\" \",end=\" \")\n",
    "    for j in range (i , n-1):\n",
    "        print(\"*\",end =' ')\n",
    "    for j in range (i,n):\n",
    "        print (\"*\",end = \" \")\n",
    "    print()"
   ]
  },
  {
   "cell_type": "code",
   "execution_count": null,
   "id": "077f36eb",
   "metadata": {},
   "outputs": [],
   "source": [
    "# Type your code here\n",
    "total_marks = 0\n",
    "num_subjects = 0\n",
    "\n",
    "while num_subjects> 7 :\n",
    "    marks = float(input(\"Enter marks for subject: \"))\n",
    "    total_marks += marks\n",
    "    num_subjects += 1\n",
    "\n",
    "    choice = input(\"Do you want to enter marks for another subject? (y/n): \")\n",
    "    if choice.lower() == 'n':\n",
    "        break\n",
    "\n",
    "if num_subjects > 0:\n",
    "    average = total_marks / num_subjects\n",
    "    print(f\"The average marks of the student are: {average}\")\n",
    "else:\n",
    "    print(\"No marks entered.\")\n"
   ]
  },
  {
   "cell_type": "code",
   "execution_count": null,
   "id": "5ed032df",
   "metadata": {},
   "outputs": [],
   "source": [
    "# Type your code here\n",
    "no = float(input()) #read the number with input() method\n",
    "if no > 0 :\n",
    "     print(\"the number is positive\")\n",
    "elif no < 0:\n",
    "         print(\"the number is negative\")\n",
    "else :\n",
    "        print(\"the number is zero\")\n",
    "        "
   ]
  },
  {
   "cell_type": "code",
   "execution_count": null,
   "id": "ce5afd72",
   "metadata": {},
   "outputs": [],
   "source": [
    "print(\"Enter no. of days\")\n",
    "days = int(input())\n",
    "\n",
    "years = days // 365 \n",
    "weeks = (days % 365) // 7\n",
    "days_remaining = days - years*365 - weeks*7\n",
    "print('Years', years)\n",
    "print('Weeks',weeks)\n",
    "print('Days',days)"
   ]
  },
  {
   "cell_type": "code",
   "execution_count": null,
   "id": "e97ec6e4",
   "metadata": {},
   "outputs": [],
   "source": [
    "person = 'Jeff'\n",
    "pet_name = 'Rex'\n",
    "pet_type = 'dog'\n",
    "\n",
    "print(person, 'has a pet ', pet_type, 'and his name is ', pet_name)\n",
    "print(f'{person} has a pet {pet_type} and his name is {pet_name}')"
   ]
  },
  {
   "cell_type": "code",
   "execution_count": null,
   "id": "ce823083",
   "metadata": {},
   "outputs": [],
   "source": [
    "coordinates = []\n",
    "\n",
    "for x in range (0,5):\n",
    "    for y in range (0,5):\n",
    "        c = str(x)+ ',' + str(y)\n",
    "        coordinates.append(c)\n",
    "\n",
    "print(coordinates)"
   ]
  },
  {
   "cell_type": "code",
   "execution_count": null,
   "id": "396e864d",
   "metadata": {},
   "outputs": [],
   "source": [
    "import time \n",
    "\n",
    "num = int(input('Provide a number to test'))\n",
    "tic = time.perf_counter()\n",
    "prime = True\n",
    "\n",
    "for i in range(2, num):\n",
    "    if num %  i == 0:\n",
    "        prime = False\n",
    "        break\n",
    "\n",
    "toc = time.perf_counter()\n",
    "print('time taken', toc-tic)\n",
    " \n",
    "if prime == True:\n",
    "    print(num,'no. is prime')\n",
    "else :\n",
    "    print(\"no\")"
   ]
  },
  {
   "cell_type": "code",
   "execution_count": null,
   "id": "d1eebdbf",
   "metadata": {},
   "outputs": [],
   "source": [
    "def is_prime(num):\n",
    "    if num < 2:\n",
    "        return False \n",
    "    for i in range(2, int(num**0.5)+1):\n",
    "        if num % i == 0:\n",
    "            return False\n",
    "    return True\n",
    "\n",
    "rows = int(input(\"Enter number of rows: \"))\n",
    "current = 2\n",
    "for i in range(1, rows+1):\n",
    "    count = 0\n",
    "    while count < i:\n",
    "        if is_prime(current):\n",
    "            print(current, end=' ')\n",
    "            count += 1\n",
    "        current += 1\n",
    "    print()\n"
   ]
  },
  {
   "cell_type": "code",
   "execution_count": null,
   "id": "997f572d",
   "metadata": {},
   "outputs": [],
   "source": [
    "# functions and its types\n",
    "rainfall = [68, 58 , 0 , 99 , 200 ,23 , 49 , 88]\n",
    "location = \"Chandigarh\"\n",
    "\n",
    "def print_rainfall(values):\n",
    "    day = 1 # count the days \n",
    "    for value in values :\n",
    "        print ('Day', day , ':', value)\n",
    "        day += 1\n",
    "\n",
    "\n",
    "def average_rainfall(values):\n",
    "    import math\n",
    "    return math.fsum(values)/ len(values)\n",
    "\n",
    "def change_location(new_location):\n",
    "    global location\n",
    "    location = new_location\n",
    "    print('The new location is ', location)\n",
    "\n",
    "change_location('Hamirpur')\n",
    "print(location)\n",
    "\n",
    "print(average_rainfall)\n",
    "\n",
    "print_rainfall(rainfall)"
   ]
  },
  {
   "cell_type": "code",
   "execution_count": null,
   "id": "ef901b56",
   "metadata": {},
   "outputs": [],
   "source": [
    "# using main()\n",
    "def summation(first, second ):\n",
    "    total = first + second\n",
    "    return total \n",
    "def main():\n",
    "    print('The sum is', summation(10,20))\n",
    "\n",
    "if __name__== \"_main_\":\n",
    "    main()\n"
   ]
  },
  {
   "cell_type": "code",
   "execution_count": null,
   "id": "afa1195a",
   "metadata": {},
   "outputs": [],
   "source": [
    "def hello10():\n",
    "    print('Hello'* 10 )\n",
    "\n",
    "def pyramid(layers):\n",
    "    star ='*'\n",
    "    for i in range (0,layers):\n",
    "        print (star.center(layers * 2, ' '))\n",
    "        star += '**'\n",
    "\n",
    "def circle_area(radius):\n",
    "    import math\n",
    "    return math.pi * radius ** 2\n",
    "\n",
    "def surface_area_cuboid(l,w,h):\n",
    "    return 2 * (l*w + w*h + l*h)\n",
    "\n",
    "if __name__=='_main_':\n",
    "    hello10\n",
    "    pyramid(8)\n",
    "    print((circle_area(5)))\n",
    "    print(surface_area_cuboid(3,5,7))\n",
    "    print(surface_area_cuboid.__doc__)"
   ]
  },
  {
   "cell_type": "code",
   "execution_count": null,
   "id": "80f7f460",
   "metadata": {},
   "outputs": [],
   "source": [
    "def additionn(*args):\n",
    "    total = 0 \n",
    "    for i in args :\n",
    "        total += i\n",
    "    return total\n",
    "\n",
    "answer = additionn(20 ,10 ,5 ,1)\n",
    "print(answer)"
   ]
  },
  {
   "cell_type": "code",
   "execution_count": null,
   "id": "929bbc1e",
   "metadata": {},
   "outputs": [],
   "source": [
    "num = [1,2,3,4,5]\n",
    "let = [a,b,c,d]\n",
    "\n",
    "mix = let + num\n",
    "let += num\n",
    "print(mix)\n",
    "print(let)\n",
    "print(let[2])\n",
    "print(let[4],[1])"
   ]
  }
 ],
 "metadata": {
  "kernelspec": {
   "display_name": "Python 3",
   "language": "python",
   "name": "python3"
  },
  "language_info": {
   "codemirror_mode": {
    "name": "ipython",
    "version": 3
   },
   "file_extension": ".py",
   "mimetype": "text/x-python",
   "name": "python",
   "nbconvert_exporter": "python",
   "pygments_lexer": "ipython3",
   "version": "3.13.7"
  }
 },
 "nbformat": 4,
 "nbformat_minor": 5
}
