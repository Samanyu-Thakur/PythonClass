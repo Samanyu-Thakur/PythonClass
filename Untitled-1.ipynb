{
 "cells": [
  {
   "cell_type": "code",
   "execution_count": null,
   "id": "675a9893",
   "metadata": {},
   "outputs": [],
   "source": [
    "age = int(input(\"Enter your age :- \"))\n",
    "if age >=18:\n",
    "    print(\"Eligible\")\n",
    "else:\n",
    "    print(\"Not eligible\")"
   ]
  },
  {
   "cell_type": "code",
   "execution_count": null,
   "id": "47062a25",
   "metadata": {},
   "outputs": [],
   "source": [
    "side1 = int(input(\"Enter side1 :- \"))\n",
    "side2 = int(input(\"Enter side2 :- \"))\n",
    "side3 = int(input(\"Enter side3 :- \"))\n",
    "if side1+side2>side3 and side2+side3>side1 and side1+side3>side2:\n",
    "    print(\"Valid triangle\")\n",
    "else:\n",
    "    print(\"Invalid triangle\")"
   ]
  },
  {
   "cell_type": "code",
   "execution_count": null,
   "id": "3bccf9c4",
   "metadata": {},
   "outputs": [],
   "source": [
    "# calculator \n",
    "num1 = int(input(\"Enter first number :- \"))\n",
    "num2 = int(input(\"Enter second number :- \"))\n",
    "operation = input(\"Enter operation (+,-,*,/,%) :- \")\n",
    "if operation == '+':\n",
    "    print(num1 + num2)\n",
    "elif operation == '-':\n",
    "    print(num1 - num2)\n",
    "elif operation == '*':\n",
    "    print(num1 * num2)\n",
    "elif operation == '/':\n",
    "    if num2 != 0:\n",
    "        print(num1 / num2)\n",
    "    else:\n",
    "        print(\"Error: Division by zero\")\n",
    "elif operation == '%':\n",
    "    if num2 != 0:\n",
    "        print(num1 % num2)\n",
    "    else:\n",
    "        print(\"Error: Division by zero\")"
   ]
  },
  {
   "cell_type": "code",
   "execution_count": null,
   "id": "aa730867",
   "metadata": {},
   "outputs": [],
   "source": [
    "#switch case calculator\n",
    "num1 = int(input(\"Enter first number :- \"))\n",
    "num2 = int(input(\"Enter second number :- \"))\n",
    "operation = input(\"Enter operation (+,-,*,/,%) :- \")\n",
    "match operation:\n",
    "    case '+':\n",
    "        print(num1 + num2)\n",
    "    case '-':\n",
    "        print(num1 - num2)\n",
    "    case '*':\n",
    "        print(num1 * num2)\n",
    "    case '/':\n",
    "        if num2 != 0:\n",
    "            print(num1 / num2)\n",
    "        else:\n",
    "            print(\"Error: Division by zero\")\n",
    "    case '%':\n",
    "        if num2 != 0:\n",
    "            print(num1 % num2)\n",
    "        else:\n",
    "            print(\"Error: Division by zero\")\n",
    "    case _:\n",
    "        print(\"Invalid operation\")\n"
   ]
  },
  {
   "cell_type": "code",
   "execution_count": null,
   "id": "b41dbbe4",
   "metadata": {},
   "outputs": [],
   "source": [
    "# DAYS OF WEEK USING SWITCH CASE\n",
    "day = int(input(\"Enter day number (1-7) :- \"))\n",
    "match day:\n",
    "    case 1:\n",
    "        print(\"Monday\")\n",
    "    case 2: \n",
    "        print(\"Tuesday\")\n",
    "    case 3:\n",
    "        print(\"Wednesday\")\n",
    "    case 4:\n",
    "        print(\"Thursday\")\n",
    "    case 5:\n",
    "        print(\"Friday\")\n",
    "    case 6:\n",
    "        print(\"Saturday\")\n",
    "    case 7:\n",
    "        print(\"Sunday\")\n",
    "    case _:\n",
    "        print(\"Invalid day number\")"
   ]
  },
  {
   "cell_type": "code",
   "execution_count": 2,
   "id": "64df61fc",
   "metadata": {},
   "outputs": [
    {
     "name": "stdout",
     "output_type": "stream",
     "text": [
      "Digit\n"
     ]
    }
   ],
   "source": [
    "#a -z  print small character , A-Z print capital character , 0-9 print digit , special character using switch case\n",
    "char = input(\"Enter a character :- \")\n",
    "match char:\n",
    "    case _ if char>='a' and char<='z':\n",
    "        print(\"Small character\")     \n",
    "    case _ if char>='A' and char<='Z':\n",
    "        print(\"Capital character\")\n",
    "    case _ if char>='0' and char<='9':\n",
    "        print(\"Digit\")\n",
    "    case _:\n",
    "        print(\"Special character\")\n",
    "\n"
   ]
  },
  {
   "cell_type": "code",
   "execution_count": null,
   "id": "16cdf122",
   "metadata": {},
   "outputs": [],
   "source": [
    "# 5 subjects percentage and grade\n",
    "sub1 = float(input(\"Enter marks\"))\n",
    "sub2 = float(input(\"Enter marks\"))\n",
    "sub3 = float(input(\"Enter marks\"))\n",
    "sub4 = float(input(\"Enter marks\"))\n",
    "sub5 = float(input(\"Enter marks\"))\n",
    "percentage = (sub1+sub2+sub3+sub4+sub5)/5\n",
    "print(\"Percentage :- \" + str(percentage))\n",
    "if percentage >= 90:\n",
    "    print(\"Grade A\")\n",
    "elif percentage >= 80:\n",
    "    print(\"Grade B\")\n",
    "elif percentage >= 70:\n",
    "    print(\"Grade C\")\n",
    "elif percentage >= 60:\n",
    "    print(\"Grade D\")\n",
    "elif percentage >= 50:\n",
    "    print(\"Grade E\")\n",
    "elif percentage < 50:\n",
    "    print(\"Grade F\")\n",
    "else:\n",
    "    print(\"Invalid percentage\")"
   ]
  },
  {
   "cell_type": "code",
   "execution_count": 4,
   "id": "247df091",
   "metadata": {},
   "outputs": [
    {
     "name": "stdout",
     "output_type": "stream",
     "text": [
      "Palindrome\n"
     ]
    }
   ],
   "source": [
    "# palindrome \n",
    "num = int(input(\"Enter no.\"))\n",
    "temp = num\n",
    "rev = 0\n",
    "while num > 0: # the loop will run till the input number is greater than 0\n",
    "    dig = num % 10 # get last digit i.e if num=234 then dig=4\n",
    "    rev = (rev * 10) + dig # i.e rev=0*10+4=4 then rev=4*10+3=43 then rev=43*10+2=432\n",
    "    num = num // 10 # remove last digit i.e num=234//10=23 then num=23//10=2 then num=2//10=0\n",
    "if temp == rev:\n",
    "    print(\"Palindrome\")\n",
    "else:\n",
    "    print(\"Not Palindrome\")"
   ]
  },
  {
   "cell_type": "code",
   "execution_count": null,
   "id": "c54c4ff3",
   "metadata": {},
   "outputs": [],
   "source": [
    "# agian  palindrome\n",
    "num = int(input(\"ENter no .\"))\n",
    "temp = num \n",
    "rev = 0 \n",
    "while num >0 :\n",
    "    dig = num % 10 \n",
    "    rev = (rev *10 ) + dig\n",
    "    num = num // 10 \n",
    "    if temp == rev :\n",
    "        print(\"Palindrome\")\n",
    "    else:\n",
    "        print(\"Not Palindrome\")"
   ]
  },
  {
   "cell_type": "code",
   "execution_count": 6,
   "id": "ad5b0039",
   "metadata": {},
   "outputs": [
    {
     "name": "stdout",
     "output_type": "stream",
     "text": [
      "Not Armstrong number\n"
     ]
    }
   ],
   "source": [
    "# armstrong number\n",
    "num = int(input(\"Enter no.\"))\n",
    "sum = 0\n",
    "temp = num\n",
    "while temp > 0:\n",
    "    dig = temp % 10\n",
    "    sum += dig ** 3\n",
    "    temp //= 10\n",
    "if num == sum:\n",
    "    print(\"Armstrong number\")\n",
    "else:\n",
    "    print(\"Not Armstrong number\")"
   ]
  },
  {
   "cell_type": "code",
   "execution_count": null,
   "id": "6ef18f40",
   "metadata": {},
   "outputs": [],
   "source": [
    "# perfect number ie. sum of its proper divisors (excluding itself) equals the number\n",
    "num = int(input(\"Enter no.\"))\n",
    "sum = 0\n",
    "for i in range(1, num): # loop from 1 to num-1\n",
    "    if num % i == 0:\n",
    "        sum += i\n",
    "if sum == num:\n",
    "    print(\"Perfect number\")\n",
    "else:\n",
    "    print(\"Not Perfect number\") \n",
    "    "
   ]
  },
  {
   "cell_type": "code",
   "execution_count": null,
   "id": "831f2d19",
   "metadata": {},
   "outputs": [],
   "source": [
    "# pattern \n",
    "n = int(input(\"Enter no. of rows :- \"))\n",
    "for i in range (1, n+1):\n",
    "        for j in range (1, i+1):\n",
    "            print (j, end=\" \")\n",
    "        print() # for new line"
   ]
  },
  {
   "cell_type": "code",
   "execution_count": null,
   "id": "b80b59fd",
   "metadata": {},
   "outputs": [],
   "source": [
    "row = int(input(\"Enter the no. of rows: \"))\n",
    "for i in range (1 , row +1 ):\n",
    "    for j in range (1 , i + 1):\n",
    "        print ('*', end = \" \")\n",
    "    print() # for new line"
   ]
  },
  {
   "cell_type": "code",
   "execution_count": null,
   "id": "ec0ccd79",
   "metadata": {},
   "outputs": [],
   "source": [
    "# each number in new line of triangle\n",
    "NUM = int(input(\"ENTER NO. :- \"))\n",
    "n = 1\n",
    "for i in range (1 , NUM + 1):\n",
    "    for j in range (1 , i + 1):\n",
    "        print (n , end = \" \")\n",
    "        n = n + 1\n",
    "    print() # for new line"
   ]
  },
  {
   "cell_type": "code",
   "execution_count": null,
   "id": "e6071285",
   "metadata": {},
   "outputs": [],
   "source": [
    "# PRINT spaces then number in each line of triangle\n",
    "num = int(input(\"ENTER NO. :- \"))\n",
    "for i in range (1 , num + 1):\n",
    "    for j in range (num , i , -1):\n",
    "        print (\" \" , end = \" \")\n",
    "    for k in range (1 , i + 1):\n",
    "        print (k , end = \" \")\n",
    "    print() # for new line"
   ]
  },
  {
   "cell_type": "code",
   "execution_count": null,
   "id": "f1f8b03e",
   "metadata": {},
   "outputs": [],
   "source": []
  },
  {
   "cell_type": "code",
   "execution_count": null,
   "id": "52039804",
   "metadata": {},
   "outputs": [],
   "source": [
    "# 1\n",
    "# 2 4\n",
    "# 3 9 27\n",
    "# 4 16 64 256\n",
    "n = int(input(\"Enter no. of rows :- \")) \n",
    "for i in range (1 , n + 1):# for the rows \n",
    "    for j in range (1 , i + 1):# for the powers and columns\n",
    "        print (i ** j , end = \" \")\n",
    "    print() # for new line\n"
   ]
  },
  {
   "cell_type": "code",
   "execution_count": null,
   "id": "8a150cf4",
   "metadata": {},
   "outputs": [],
   "source": [
    "# prime \n",
    "n = int(input(\"Enter no:- \" ))\n",
    "if n == 1:\n",
    "    print(\"Not prime\")\n",
    "else:\n",
    "    for i in range(2, n):\n",
    "        if n % i == 0:\n",
    "            print(\"Not prime\")\n",
    "            break\n",
    "    else:\n",
    "        print(\"Prime\")"
   ]
  },
  {
   "cell_type": "code",
   "execution_count": 11,
   "id": "ae0add99",
   "metadata": {},
   "outputs": [
    {
     "name": "stdout",
     "output_type": "stream",
     "text": [
      "2\n",
      "3\n"
     ]
    }
   ],
   "source": [
    "# print all primes before n using flag \n",
    "n = int(input(\"Enter no:- \" ))\n",
    "for num in range(2, n):\n",
    "    is_prime = True\n",
    "    for i in range(2, num):\n",
    "        if num % i == 0:\n",
    "            is_prime = False\n",
    "            break\n",
    "    if is_prime==True:\n",
    "        print(num)\n"
   ]
  },
  {
   "cell_type": "code",
   "execution_count": 12,
   "id": "d9f910fd",
   "metadata": {},
   "outputs": [
    {
     "name": "stdout",
     "output_type": "stream",
     "text": [
      "2 \n",
      "2 3 \n",
      "2 3 5 \n",
      "2 3 5 7 \n",
      "2 3 5 7 11 \n"
     ]
    }
   ],
   "source": [
    "#2 \n",
    "# 2 3 \n",
    "# 2 3 5 \n",
    "# 2 3 5 7\n",
    "n = int(input(\"Enter no. of rows :- \"))\n",
    "primes = [2, 3, 5, 7, 11, 13, 17, 19, 23, 29, 31, 37, 41, 43, 47] # list of first few prime numbers\n",
    "for i in range(1, n + 1):\n",
    "    for j in range(i):\n",
    "        print(primes[j], end=\" \")\n",
    "    print()  # for new line\n"
   ]
  },
  {
   "cell_type": "code",
   "execution_count": 23,
   "id": "2697e194",
   "metadata": {},
   "outputs": [
    {
     "name": "stdout",
     "output_type": "stream",
     "text": [
      "          1 \n",
      "        1 2 \n",
      "      1 2 3 \n",
      "    1 2 3 4 \n",
      "  1 2 3 4 5 \n",
      "1 2 3 4 5 6 \n"
     ]
    }
   ],
   "source": [
    "#     1\n",
    "#   1 2\n",
    "# 1 2 3\n",
    "n = int(input(\"Enter no. of rows :- \"))\n",
    "for i in range(1, n + 1):# for rows printing\n",
    "    for j in range(1, n - i + 1):# for spaces printing\n",
    "        print(\" \", end=\" \")\n",
    "    for k in range(1, i + 1):# for numbers printing\n",
    "        print(k, end=\" \")\n",
    "    print()  # for new line"
   ]
  },
  {
   "cell_type": "code",
   "execution_count": 14,
   "id": "da874fa8",
   "metadata": {},
   "outputs": [
    {
     "name": "stdout",
     "output_type": "stream",
     "text": [
      "1 \n",
      "1 2 \n",
      "1 2 3 \n",
      "1 2 3 4 \n",
      "1 2 3 4 5 \n"
     ]
    }
   ],
   "source": [
    "# 2 \n",
    "N = int(input(\"ENTER NO. :- \"))\n",
    "for i in range (1 , N + 1):\n",
    "    for j in range (1 , i + 1):\n",
    "        print (j , end = \" \")\n",
    "    print()"
   ]
  },
  {
   "cell_type": "code",
   "execution_count": 40,
   "id": "30920f17",
   "metadata": {},
   "outputs": [
    {
     "name": "stdout",
     "output_type": "stream",
     "text": [
      "2 \n",
      "3 5 \n",
      "7 11 13 \n",
      "17 19 23 29 \n",
      "31 37 41 43 47 \n",
      "53 59 61 67 71 73 \n",
      "79 83 89 97 101 103 107 \n",
      "109 113 127 131 137 139 149 151 \n"
     ]
    }
   ],
   "source": [
    "# prime number triangle\n",
    "a = int(input(\"ENTER NO. :- \"))\n",
    "count = 0\n",
    "num = 2\n",
    "for i in range(1, a + 1):\n",
    "    for j in range(i): # print i primes in ith row\n",
    "        while True:\n",
    "            for k in range(2, int(num**0.5) + 1): # check for factors from 2 to sqrt(num)\n",
    "                if num % k == 0:\n",
    "                    break\n",
    "            else:\n",
    "                print(num, end=\" \")\n",
    "                count += 1\n",
    "                num += 1\n",
    "                break\n",
    "            num += 1\n",
    "    print()  # for new line"
   ]
  },
  {
   "cell_type": "code",
   "execution_count": 43,
   "id": "887e1b72",
   "metadata": {},
   "outputs": [
    {
     "name": "stdout",
     "output_type": "stream",
     "text": [
      "1 2 3 4 5 \n",
      "  1 2 3 4 \n",
      "    1 2 3 \n",
      "      1 2 \n",
      "        1 \n"
     ]
    }
   ],
   "source": [
    "# 1 2 3 4 5 \n",
    "#   1 2 3 4\n",
    "n = int(input(\"Enter no. of rows :- \"))\n",
    "for i in range (1 , n + 1): # for rows printing\n",
    "    for j in range (1 , i, ): # for spaces printing\n",
    "        print (\" \" , end = \" \")\n",
    "    for k in range (1 , n - i + 2): # for numbers printing\n",
    "        print (k , end = \" \")\n",
    "    print() # for new line"
   ]
  },
  {
   "cell_type": "code",
   "execution_count": 54,
   "id": "8df24d14",
   "metadata": {},
   "outputs": [
    {
     "name": "stdout",
     "output_type": "stream",
     "text": [
      "    1 \n",
      "   1 2 \n",
      "  1 2 3 \n",
      " 1 2 3 4 \n",
      "1 2 3 4 5 \n"
     ]
    }
   ],
   "source": [
    "n = int(input(\"Enter no. of rows :- \"))\n",
    "for i in range(n):\n",
    "    # Print spaces for centering\n",
    "    print(\" \" * (n - i - 1), end=\"\")\n",
    "    # Print letters for this row\n",
    "    for j in range(i + 1):\n",
    "        print(j + 1, end=\" \")\n",
    "        \n",
    "    print()"
   ]
  },
  {
   "cell_type": "code",
   "execution_count": 63,
   "id": "0ec1c138",
   "metadata": {},
   "outputs": [
    {
     "name": "stdout",
     "output_type": "stream",
     "text": [
      "    1 \n",
      "   1 2 \n",
      "  1 2 3 \n",
      " 1 2 3 4 \n",
      "1 2 3 4 5 \n",
      " 1 2 3 4 \n",
      "  1 2 3 \n",
      "   1 2 \n",
      "    1 \n"
     ]
    }
   ],
   "source": [
    "#    1\n",
    "#   1  2\n",
    "#  1  2  3\n",
    "#   1  2\n",
    "#    1\n",
    "n = int(input(\"Enter no. of rows :- \"))\n",
    "for i in range(n):\n",
    "    # Print spaces for centering\n",
    "    print(\" \" * (n - i - 1), end=\"\")\n",
    "    # Print letters for this row\n",
    "    for j in range(i + 1):\n",
    "        print(j + 1, end=\" \")\n",
    "        \n",
    "    print()\n",
    "for i in range(n-1, 0, -1): # n = 5 then i=4,3,2,1\n",
    "    # Print spaces for centering\n",
    "    print(\" \" * (n - i), end=\"\") # n =5 i=4 then 5-4=1 space , i=3 then 5-3=2 spaces\n",
    "    # Print letters for this row\n",
    "    for j in range(i):\n",
    "        print(j + 1, end=\" \")\n",
    "        \n",
    "    print()"
   ]
  },
  {
   "cell_type": "code",
   "execution_count": 1,
   "id": "412a1325",
   "metadata": {},
   "outputs": [
    {
     "name": "stdout",
     "output_type": "stream",
     "text": [
      "10\n"
     ]
    }
   ],
   "source": [
    "# functions \n",
    "def sum (a,b):\n",
    "    c = a+b \n",
    "    return c\n",
    "x = int(input(\"No.\"))\n",
    "y = int(input(\"no.\"))\n",
    "z = sum (x,y)\n",
    "print (z)"
   ]
  },
  {
   "cell_type": "code",
   "execution_count": 8,
   "id": "fc941238",
   "metadata": {},
   "outputs": [
    {
     "name": "stdout",
     "output_type": "stream",
     "text": [
      "(4, 0, 4, 1.0, 0, 4)\n"
     ]
    }
   ],
   "source": [
    "def maths(a, b):\n",
    "    add = a + b\n",
    "    sub = a - b\n",
    "    multi = a * b\n",
    "    div = a / b\n",
    "    rem = a % b\n",
    "    power = a**b\n",
    "    return add, sub, multi, div, rem, power\n",
    "\n",
    "x = int(input(\"Enter first number: \"))\n",
    "y = int(input(\"Enter second number: \"))\n",
    "result = maths(x, y)\n",
    "print(result)  # Prints the tuple: (addition, subtraction, multiplication, division, remainder)\n"
   ]
  },
  {
   "cell_type": "code",
   "execution_count": 1,
   "id": "2d564e5d",
   "metadata": {},
   "outputs": [
    {
     "name": "stdout",
     "output_type": "stream",
     "text": [
      "Hello, Amy Watson\n",
      "Hello, Amy Turin\n"
     ]
    }
   ],
   "source": [
    "def greet(first, last):\n",
    "    print(\"Hello,\", first, last)\n",
    "\n",
    "greet(\"Amy\", \"Watson\")  # Correct\n",
    "greet(\"Amy\", \"Turin\")  # Error: missing required argument\n"
   ]
  },
  {
   "cell_type": "code",
   "execution_count": 1,
   "id": "ca124c5b",
   "metadata": {},
   "outputs": [
    {
     "name": "stdout",
     "output_type": "stream",
     "text": [
      "Number of vowels in the string: 3\n"
     ]
    }
   ],
   "source": [
    "def count_vowels(s):\n",
    "    vowels = set('aeiouAEIOU')\n",
    "    return sum(1 for char in s if char in vowels)\n",
    "\n",
    "if __name__ == \"__main__\":\n",
    "    user_string = input(\"Enter a string: \")\n",
    "    vowel_count = count_vowels(user_string)\n",
    "    print(f\"Number of vowels in the string: {vowel_count}\")"
   ]
  },
  {
   "cell_type": "code",
   "execution_count": 9,
   "id": "69e3bfc5",
   "metadata": {},
   "outputs": [
    {
     "name": "stdout",
     "output_type": "stream",
     "text": [
      "120\n"
     ]
    }
   ],
   "source": [
    "\n",
    "def fact(x):\n",
    "    if x == 1:\n",
    "        return 1 \n",
    "    else :\n",
    "        return (x * fact(x-1))\n",
    "    \n",
    "n = int(input(\"Number :-\"))\n",
    "c = fact(n)\n",
    "print (c)"
   ]
  },
  {
   "cell_type": "code",
   "execution_count": 12,
   "id": "6fcb1c79",
   "metadata": {},
   "outputs": [
    {
     "name": "stdout",
     "output_type": "stream",
     "text": [
      "The first 5 Fibonacci numbers are: [0, 1, 1, 2, 3]\n"
     ]
    }
   ],
   "source": [
    "# fibonacci using functions \n",
    "def fibonacci(n):\n",
    "    \n",
    "    if n <= 0:\n",
    "        print(\"Please enter a positive integer\")\n",
    "        return\n",
    "    \n",
    "    fib_sequence = [0, 1]\n",
    "    \n",
    "    for i in range(2, n):\n",
    "        fib_sequence.append(fib_sequence[-1] + fib_sequence[-2])\n",
    "    \n",
    "    print(f\"The first {n} Fibonacci numbers are: {fib_sequence[:n]}\")\n",
    "\n",
    "\n",
    "if __name__ == \"__main__\":\n",
    "    try:\n",
    "        n = int(input(\"Enter the number of Fibonacci numbers to generate: \"))\n",
    "        fibonacci(n)\n",
    "    except ValueError:\n",
    "        print(\"Please enter a valid integer\")"
   ]
  },
  {
   "cell_type": "code",
   "execution_count": 2,
   "id": "e8e85a7b",
   "metadata": {},
   "outputs": [
    {
     "name": "stdout",
     "output_type": "stream",
     "text": [
      "Welcome to the Basic List Inputer!\n",
      "Your list is: ['5', '', '5', '5', '2', 'o', 'o', 'l', 'j']\n"
     ]
    }
   ],
   "source": [
    "def list_inputer():\n",
    "    my_list = []\n",
    "    while True:\n",
    "        item = input(\"Enter an item for the list (or 'done' to finish): \")\n",
    "        if item.lower() == 'done':\n",
    "            break\n",
    "        my_list.append(item)\n",
    "    return my_list\n",
    "\n",
    "if __name__ == \"__main__\":\n",
    "    print(\"Welcome to the Basic List Inputer!\")\n",
    "    my_new_list = list_inputer()\n",
    "    print(\"Your list is:\", my_new_list)\n"
   ]
  },
  {
   "cell_type": "code",
   "execution_count": 3,
   "id": "2b31e8de",
   "metadata": {},
   "outputs": [],
   "source": [
    "# Program including all functions on lists including operators\n",
    "\n",
    "def list_creation():\n",
    "    \"\"\"Demonstrates various ways to create lists.\"\"\"\n",
    "    print(\"\\n--- List Creation ---\")\n",
    "    list1 = [1, 2, 3, 4, 5]\n",
    "    print(f\"Directly created list: {list1}\")\n",
    "    list2 = list(range(5))\n",
    "    print(f\"List from range: {list2}\")\n",
    "    list3 = [x * 2 for x in range(5)]\n",
    "    print(f\"List using list comprehension: {list3}\")\n",
    "    list4 = list(\"hello\")\n",
    "    print(f\"List from a string: {list4}\")\n",
    "    empty_list = []\n",
    "    print(f\"Empty list: {empty_list}\")\n",
    "    mixed_list = [1, \"hello\", True, 3.14]\n",
    "    print(f\"Mixed data type list: {mixed_list}\")\n",
    "\n",
    "def list_access_and_slicing():\n",
    "    \"\"\"Demonstrates accessing elements and slicing lists.\"\"\"\n",
    "    print(\"\\n--- List Access and Slicing ---\")\n",
    "    my_list = [10, 20, 30, 40, 50, 60, 70]\n",
    "    print(f\"Original list: {my_list}\")\n",
    "\n",
    "    # Accessing elements\n",
    "    print(f\"First element (index 0): {my_list[0]}\")\n",
    "    print(f\"Last element (index -1): {my_list[-1]}\")\n",
    "    print(f\"Element at index 3: {my_list[3]}\")\n",
    "\n",
    "    # Slicing\n",
    "    print(f\"Slice from index 1 to 4 (exclusive): {my_list[1:5]}\")\n",
    "    print(f\"Slice from beginning to index 3 (exclusive): {my_list[:4]}\")\n",
    "    print(f\"Slice from index 2 to end: {my_list[2:]}\")\n",
    "    print(f\"Slice with a step of 2: {my_list[::2]}\")\n",
    "    print(f\"Reverse the list using slicing: {my_list[::-1]}\")\n",
    "\n",
    "def list_modification():\n",
    "    \"\"\"Demonstrates modifying list elements.\"\"\"\n",
    "    print(\"\\n--- List Modification ---\")"
   ]
  },
  {
   "cell_type": "code",
   "execution_count": 2,
   "id": "ccef25e7",
   "metadata": {},
   "outputs": [
    {
     "name": "stdout",
     "output_type": "stream",
     "text": [
      "Original list: [1, 2, 3, 4, 5]\n",
      "After append(6): [1, 2, 3, 4, 5, 6]\n",
      "After extend([7, 8]): [1, 2, 3, 4, 5, 6, 7, 8]\n",
      "After insert(0, 0): [0, 1, 2, 3, 4, 5, 6, 7, 8]\n",
      "After insert(5, 4.5): [0, 1, 2, 3, 4, 4.5, 5, 6, 7, 8]\n",
      "After remove(4.5): [0, 1, 2, 3, 4, 5, 6, 7, 8]\n",
      "After pop() (removed 8): [0, 1, 2, 3, 4, 5, 6, 7]\n",
      "After pop(0) (removed 0): [1, 2, 3, 4, 5, 6, 7]\n",
      "After clear() on temp_list: []\n"
     ]
    }
   ],
   "source": [
    "# Python program depicting each and every use of list functions\n",
    "\n",
    "# 1. Creating a list\n",
    "my_list = [1, 2, 3, 4, 5]\n",
    "print(f\"Original list: {my_list}\")\n",
    "\n",
    "# 2. append(): Adds an element at the end of the list\n",
    "my_list.append(6)\n",
    "print(f\"After append(6): {my_list}\")\n",
    "\n",
    "# 3. extend(): Add the elements of an iterable (like another list) to the end of the current list\n",
    "another_list = [7, 8]\n",
    "my_list.extend(another_list)\n",
    "print(f\"After extend([7, 8]): {my_list}\")\n",
    "\n",
    "# 4. insert(): Adds an element at the specified position\n",
    "my_list.insert(0, 0) # Insert 0 at index 0\n",
    "print(f\"After insert(0, 0): {my_list}\")\n",
    "my_list.insert(5, 4.5) # Insert 4.5 at index 5\n",
    "print(f\"After insert(5, 4.5): {my_list}\")\n",
    "\n",
    "# 5. remove(): Removes the first occurrence of the item with the specified value\n",
    "my_list.remove(4.5)\n",
    "print(f\"After remove(4.5): {my_list}\")\n",
    "# my_list.remove(100) # This would raise a ValueError if 100 is not in the list\n",
    "\n",
    "# 6. pop(): Removes the element at the specified position. If no index is specified, removes the last item.\n",
    "popped_item = my_list.pop() # Removes and returns the last item\n",
    "print(f\"After pop() (removed {popped_item}): {my_list}\")\n",
    "\n",
    "popped_item_at_index = my_list.pop(0) # Removes and returns the item at index 0\n",
    "print(f\"After pop(0) (removed {popped_item_at_index}): {my_list}\")\n",
    "\n",
    "# 7. clear(): Removes all the elements from the list\n",
    "temp_list = [10, 20, 30]\n",
    "temp_list.clear()\n",
    "print(f\"After clear() on temp_list: {temp_list}\")\n",
    "\n"
   ]
  },
  {
   "cell_type": "code",
   "execution_count": 3,
   "id": "60c2dcfd",
   "metadata": {},
   "outputs": [
    {
     "name": "stdout",
     "output_type": "stream",
     "text": [
      "[2, 1, 3, 5, 4]\n",
      "[1, 2, 3, 4, 5]\n",
      "['Aakash', 'Akash', 'Bunti', 'Dore', 'Homer']\n",
      "[5, 4, 3, 2, 1]\n",
      "[5, 3, 1, 2]\n",
      "[2, 1, 64, 3, 5]\n",
      "[2, 3, 1]\n",
      "[2, 1, 1]\n"
     ]
    }
   ],
   "source": [
    "#LIST METHODS\n",
    "list = [2,1,3,5] #List used in all methods\n",
    "#NO 1 - APPEND METHOD - KOI BHI CHIZ KO LIST KE END MEIN JODNA\n",
    "list.append(4)\n",
    "print(list)\n",
    "#NO 2 - SORT METHOD - VALUES KO ASCENDING YA DECENDING METHOD MEIN STORE KRTA HN\n",
    "#By default it gets arranged in ascending method\n",
    "list.sort()\n",
    "print(list)\n",
    "a = [\"Akash\",\"Homer\",\"Bunti\",\"Aakash\",\"Dore\"]\n",
    "a.sort()\n",
    "print(a) #IN CASE OF WORDS THEY GET ARRANGED ALPHABETICALLY\n",
    "#To get it in decendingorder method modifies - list.sort(reverse=True)\n",
    "list.sort(reverse=True)\n",
    "print(list)\n",
    "#NO 3 REVERSE LIST - ORIGINAL LIST KO REVERSE KR DETA HN\n",
    "list = [2,1,3,5]\n",
    "list.reverse()\n",
    "print(list)\n",
    "#NO 4 INSERT METHOD - KISI PARTICULAR POSITION PE KOI ELEMENT ADD KRNA\n",
    "list = [2,1,3,5]\n",
    "list.insert(2,64)\n",
    "print(list)\n",
    "#NO 5 REMOVE METHOD - KISI BHI VALUE KI FIRST OCCURANCE DELETE KRNA\n",
    "list1 = [2,1,3,1]\n",
    "list1.remove(1)\n",
    "print(list1)\n",
    "#NO 6 POP METHOD - REMOVES AN ELEMENT AT A PARTICULAR INDEX\n",
    "list1 = [2,1,3,1]\n",
    "list1.pop(2)\n",
    "print(list1)\n"
   ]
  },
  {
   "cell_type": "code",
   "execution_count": 4,
   "id": "38ad9970",
   "metadata": {},
   "outputs": [
    {
     "name": "stdout",
     "output_type": "stream",
     "text": [
      "my_list[2:5]: [2, 3, 4]\n",
      "my_list[:4]: [0, 1, 2, 3]\n",
      "my_list[6:]: [6, 7, 8, 9]\n",
      "my_list[:]: [0, 1, 2, 3, 4, 5, 6, 7, 8, 9]\n",
      "my_list[1:8:2]: [1, 3, 5, 7]\n",
      "my_list[::-1]: [9, 8, 7, 6, 5, 4, 3, 2, 1, 0]\n",
      "my_list[7:1:-1]: [7, 6, 5, 4, 3, 2]\n",
      "my_list[-3:]: <class 'slice'>\n"
     ]
    }
   ],
   "source": [
    "# Basic list slicing\n",
    "my_list = [0, 1, 2, 3, 4, 5, 6, 7, 8, 9]\n",
    "\n",
    "# Get elements from index 2 up to (but not including) index 5\n",
    "slice1 = my_list[2:5]\n",
    "print(f\"my_list[2:5]: {slice1}\")  # Output: [2, 3, 4]\n",
    "\n",
    "# Get elements from the beginning up to (but not including) index 4\n",
    "slice2 = my_list[:4]\n",
    "print(f\"my_list[:4]: {slice2}\")   # Output: [0, 1, 2, 3]\n",
    "\n",
    "# Get elements from index 6 to the end\n",
    "slice3 = my_list[6:]\n",
    "print(f\"my_list[6:]: {slice3}\")   # Output: [6, 7, 8, 9]\n",
    "\n",
    "# Get a copy of the entire list\n",
    "slice4 = my_list[:]\n",
    "print(f\"my_list[:]: {slice4}\")    # Output: [0, 1, 2, 3, 4, 5, 6, 7, 8, 9]\n",
    "\n",
    "# Get elements with a step of 2\n",
    "slice5 = my_list[1:8:2]\n",
    "print(f\"my_list[1:8:2]: {slice5}\") # Output: [1, 3, 5, 7]\n",
    "\n",
    "# Get elements in reverse order\n",
    "slice6 = my_list[::-1]\n",
    "print(f\"my_list[::-1]: {slice6}\")  # Output: [9, 8, 7, 6, 5, 4, 3, 2, 1, 0]\n",
    "\n",
    "# Get elements from index 7 down to index 2 (exclusive) with a step of -1\n",
    "slice7 = my_list[7:1:-1]\n",
    "print(f\"my_list[7:1:-1]: {slice7}\") # Output: [7, 6, 5, 4, 3, 2]\n",
    "\n",
    "# Using negative indices\n",
    "# Get the last three elements\n",
    "slice8 = my_list[-3:]\n",
    "print(f\"my_list[-3:]: {slice}\")"
   ]
  },
  {
   "cell_type": "code",
   "execution_count": 15,
   "id": "18c855dc",
   "metadata": {},
   "outputs": [
    {
     "name": "stdout",
     "output_type": "stream",
     "text": [
      "1\n",
      "2\n",
      "3\n",
      "4\n",
      "5\n",
      "6\n",
      "7\n",
      "8\n",
      "9\n",
      "9\n",
      "1\n",
      "2\n",
      "3\n",
      "4\n",
      "56\n",
      "5\n",
      "432\n"
     ]
    }
   ],
   "source": [
    "l1 = [1,2,3,4,5,6,7,8,9,9,1,2,3,4,56,5,432]\n",
    "for i in range(0, len(l1)):\n",
    "    print(l1[i])\n"
   ]
  },
  {
   "cell_type": "code",
   "execution_count": 2,
   "id": "68a4d0c6",
   "metadata": {},
   "outputs": [
    {
     "name": "stdout",
     "output_type": "stream",
     "text": [
      "['3']\n",
      "Original list: ['3']\n",
      "List with duplicates removed: ['3']\n",
      "['3']\n",
      "Original list: ['3']\n",
      "List with duplicates removed: ['3']\n"
     ]
    }
   ],
   "source": [
    "lst = []\n",
    "n = int(input(\"Enter number of elements: \"))\n",
    "for i in range(n):\n",
    "    ele = input(\"Enter element: \")\n",
    "    lst.append(ele)\n",
    "\n",
    "\n",
    "result = []\n",
    "for item in lst:\n",
    "    if item not in result:\n",
    "        result.append(item)\n",
    "print(result)  \n",
    "user_input = input(\"Enter a list of elements separated by spaces: \")\n",
    "user_list = user_input.split()\n",
    "\n",
    "unique_list = []\n",
    "for item in user_list:\n",
    "    if item not in unique_list:\n",
    "        unique_list.append(item)\n",
    "\n",
    "print(\"Original list:\", user_list)\n",
    "print(\"List with duplicates removed:\", unique_list)\n",
    "lst = []\n",
    "n = int(input(\"Enter number of elements: \"))\n",
    "for i in range(n):\n",
    "    ele = input(\"Enter element: \")\n",
    "    lst.append(ele)\n",
    "\n",
    "\n",
    "result = []\n",
    "for item in lst:\n",
    "    if item not in result:\n",
    "        result.append(item)\n",
    "print(result)  \n",
    "user_input = input(\"Enter a list of elements separated by spaces: \")\n",
    "user_list = user_input.split()\n",
    " \n",
    "unique_list = []\n",
    "for item in user_list:\n",
    "    if item not in unique_list:\n",
    "        unique_list.append(item)\n",
    "\n",
    "print(\"Original list:\", user_list)\n",
    "print(\"List with duplicates removed:\", unique_list)"
   ]
  },
  {
   "cell_type": "code",
   "execution_count": 9,
   "id": "5d0abc05",
   "metadata": {},
   "outputs": [
    {
     "name": "stdout",
     "output_type": "stream",
     "text": [
      "[9, 4, 7, 8, 1]\n",
      "the list updated is  [9, 4, 7, 8, 1, 5]\n"
     ]
    }
   ],
   "source": [
    "n = int(input(\"Enter a list \"))\n",
    "list= []\n",
    "for i in range(n):\n",
    "    elem = int(input(\"Enter a no. \"))\n",
    "    list.append(elem)\n",
    "print(list)\n",
    "a = int(input(\"Enter no . for the entrace\"))\n",
    "b = int(input(\"Enter no . for the entrace\"))\n",
    "if a not in list:\n",
    "    print(\"Element not found\")\n",
    "else :\n",
    "    i = list.index(a)\n",
    "    list.insert(a,b)\n",
    "print(\"the list updated is \", list)"
   ]
  },
  {
   "cell_type": "code",
   "execution_count": 11,
   "id": "cfc90f37",
   "metadata": {},
   "outputs": [
    {
     "name": "stdout",
     "output_type": "stream",
     "text": [
      "[1, 2, 3, 4, 3, 2, 3, 2, 4]\n"
     ]
    }
   ],
   "source": [
    "li1=[1,2,3,4,3,2,3,2,4]\n",
    "a=int(input(\"key :\"))\n",
    "b=int(input(\"value :\"))\n",
    "for i in li1:\n",
    "    if i==a:\n",
    "        li1.insert(li1.index(i),b)\n",
    "    else:\n",
    "        continue\n",
    "print(li1)"
   ]
  },
  {
   "cell_type": "code",
   "execution_count": 16,
   "id": "0f10b0c4",
   "metadata": {},
   "outputs": [
    {
     "name": "stdout",
     "output_type": "stream",
     "text": [
      "['apple', 'pear', 'mango', 'Tamrind', 'Herkask']\n"
     ]
    }
   ],
   "source": [
    "fruits = [\"apple\", \"pear\", \"mango\",\"Tamrind\",\"Herkask\",\"Plnk\"]\n",
    "new_list = []\n",
    "\n",
    "for fruit in fruits:\n",
    "    if \"a\" in fruit:\n",
    "        new_list.append(fruit)\n",
    "\n",
    "print(new_list)\n"
   ]
  },
  {
   "cell_type": "code",
   "execution_count": 18,
   "id": "d4b3199c",
   "metadata": {},
   "outputs": [
    {
     "name": "stdout",
     "output_type": "stream",
     "text": [
      "['apple', 'pear', 'mango', 'Tamrind', 'Herkask']\n"
     ]
    }
   ],
   "source": [
    "fruits = [\"apple\", \"pear\", \"mango\",\"Tamrind\",\"Herkask\",\"Plnk\"]\n",
    "new_list = []\n",
    "\n",
    "l2 = [i for i in fruits if 'a' in i]\n",
    "print(l2)"
   ]
  },
  {
   "cell_type": "code",
   "execution_count": 26,
   "id": "f5cb2933",
   "metadata": {},
   "outputs": [
    {
     "name": "stdout",
     "output_type": "stream",
     "text": [
      "[12, 14, 18, 12, 12]\n"
     ]
    }
   ],
   "source": [
    "n = int(input(\"Enter a list \"))\n",
    "list= []\n",
    "for i in range(n):\n",
    "    elem = int(input(\"Enter a no. \"))\n",
    "    list.append(elem)\n",
    "l2 = [i*2 for i in list ]\n",
    "print(l2)"
   ]
  },
  {
   "cell_type": "code",
   "execution_count": null,
   "id": "055183da",
   "metadata": {},
   "outputs": [
    {
     "name": "stdout",
     "output_type": "stream",
     "text": [
      "[6, 2, 8, 4]\n"
     ]
    }
   ],
   "source": [
    "my_list = [int(input(\"Enter a no. \")) for _ in range(n)]\n",
    "l2 = [i for i in my_list if i%2 ==0]\n",
    "print(l2)"
   ]
  },
  {
   "cell_type": "code",
   "execution_count": 29,
   "id": "813ef6db",
   "metadata": {},
   "outputs": [
    {
     "name": "stdout",
     "output_type": "stream",
     "text": [
      "[2, 4, 6, 8]\n"
     ]
    }
   ],
   "source": [
    "\n",
    "l2 = [i for i in range (1,10 )if i%2 ==0]\n",
    "print(l2)"
   ]
  },
  {
   "cell_type": "code",
   "execution_count": 31,
   "id": "648d2b7b",
   "metadata": {},
   "outputs": [
    {
     "name": "stdout",
     "output_type": "stream",
     "text": [
      "['P', 'Y', 'T', 'H', 'O', 'N']\n"
     ]
    }
   ],
   "source": [
    "l2 = [i.upper() for i in \"Python\"]\n",
    "print(l2)"
   ]
  },
  {
   "cell_type": "code",
   "execution_count": null,
   "id": "b3c39816",
   "metadata": {},
   "outputs": [],
   "source": []
  },
  {
   "cell_type": "code",
   "execution_count": 2,
   "id": "378c596a",
   "metadata": {},
   "outputs": [
    {
     "name": "stdout",
     "output_type": "stream",
     "text": [
      "[2, 4, 6, 90, 10]\n"
     ]
    }
   ],
   "source": [
    "def xyz(i):\n",
    "    return i*2\n",
    "list1 = [1,2,3,45,5]\n",
    "res = map(xyz, list1)\n",
    "print(list(res))"
   ]
  }
 ],
 "metadata": {
  "kernelspec": {
   "display_name": ".venv (3.13.5)",
   "language": "python",
   "name": "python3"
  },
  "language_info": {
   "codemirror_mode": {
    "name": "ipython",
    "version": 3
   },
   "file_extension": ".py",
   "mimetype": "text/x-python",
   "name": "python",
   "nbconvert_exporter": "python",
   "pygments_lexer": "ipython3",
   "version": "3.13.5"
  }
 },
 "nbformat": 4,
 "nbformat_minor": 5
}
