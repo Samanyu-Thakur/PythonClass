{
 "cells": [
  {
   "cell_type": "code",
   "execution_count": null,
   "id": "675a9893",
   "metadata": {},
   "outputs": [],
   "source": [
    "age = int(input(\"Enter your age :- \"))\n",
    "if age >=18:\n",
    "    print(\"Eligible\")\n",
    "else:\n",
    "    print(\"Not eligible\")"
   ]
  },
  {
   "cell_type": "code",
   "execution_count": null,
   "id": "47062a25",
   "metadata": {},
   "outputs": [],
   "source": [
    "side1 = int(input(\"Enter side1 :- \"))\n",
    "side2 = int(input(\"Enter side2 :- \"))\n",
    "side3 = int(input(\"Enter side3 :- \"))\n",
    "if side1+side2>side3 and side2+side3>side1 and side1+side3>side2:\n",
    "    print(\"Valid triangle\")\n",
    "else:\n",
    "    print(\"Invalid triangle\")"
   ]
  },
  {
   "cell_type": "code",
   "execution_count": null,
   "id": "3bccf9c4",
   "metadata": {},
   "outputs": [],
   "source": [
    "# calculator \n",
    "num1 = int(input(\"Enter first number :- \"))\n",
    "num2 = int(input(\"Enter second number :- \"))\n",
    "operation = input(\"Enter operation (+,-,*,/,%) :- \")\n",
    "if operation == '+':\n",
    "    print(num1 + num2)\n",
    "elif operation == '-':\n",
    "    print(num1 - num2)\n",
    "elif operation == '*':\n",
    "    print(num1 * num2)\n",
    "elif operation == '/':\n",
    "    if num2 != 0:\n",
    "        print(num1 / num2)\n",
    "    else:\n",
    "        print(\"Error: Division by zero\")\n",
    "elif operation == '%':\n",
    "    if num2 != 0:\n",
    "        print(num1 % num2)\n",
    "    else:\n",
    "        print(\"Error: Division by zero\")"
   ]
  },
  {
   "cell_type": "code",
   "execution_count": null,
   "id": "aa730867",
   "metadata": {},
   "outputs": [],
   "source": [
    "#switch case calculator\n",
    "num1 = int(input(\"Enter first number :- \"))\n",
    "num2 = int(input(\"Enter second number :- \"))\n",
    "operation = input(\"Enter operation (+,-,*,/,%) :- \")\n",
    "match operation:\n",
    "    case '+':\n",
    "        print(num1 + num2)\n",
    "    case '-':\n",
    "        print(num1 - num2)\n",
    "    case '*':\n",
    "        print(num1 * num2)\n",
    "    case '/':\n",
    "        if num2 != 0:\n",
    "            print(num1 / num2)\n",
    "        else:\n",
    "            print(\"Error: Division by zero\")\n",
    "    case '%':\n",
    "        if num2 != 0:\n",
    "            print(num1 % num2)\n",
    "        else:\n",
    "            print(\"Error: Division by zero\")\n",
    "    case _:\n",
    "        print(\"Invalid operation\")\n"
   ]
  },
  {
   "cell_type": "code",
   "execution_count": null,
   "id": "b41dbbe4",
   "metadata": {},
   "outputs": [],
   "source": [
    "# DAYS OF WEEK USING SWITCH CASE\n",
    "day = int(input(\"Enter day number (1-7) :- \"))\n",
    "match day:\n",
    "    case 1:\n",
    "        print(\"Monday\")\n",
    "    case 2: \n",
    "        print(\"Tuesday\")\n",
    "    case 3:\n",
    "        print(\"Wednesday\")\n",
    "    case 4:\n",
    "        print(\"Thursday\")\n",
    "    case 5:\n",
    "        print(\"Friday\")\n",
    "    case 6:\n",
    "        print(\"Saturday\")\n",
    "    case 7:\n",
    "        print(\"Sunday\")\n",
    "    case _:\n",
    "        print(\"Invalid day number\")"
   ]
  },
  {
   "cell_type": "code",
   "execution_count": null,
   "id": "64df61fc",
   "metadata": {},
   "outputs": [],
   "source": [
    "#a -z  print small character , A-Z print capital character , 0-9 print digit , special character using switch case\n",
    "char = input(\"Enter a character :- \")\n",
    "match char:\n",
    "    case _ if char>='a' and char<='z':\n",
    "        print(\"Small character\")     \n",
    "    case _ if char>='A' and char<='Z':\n",
    "        print(\"Capital character\")\n",
    "    case _ if char>='0' and char<='9':\n",
    "        print(\"Digit\")\n",
    "    case _:\n",
    "        print(\"Special character\")\n",
    "\n"
   ]
  },
  {
   "cell_type": "code",
   "execution_count": null,
   "id": "16cdf122",
   "metadata": {},
   "outputs": [],
   "source": [
    "# 5 subjects percentage and grade\n",
    "sub1 = float(input(\"Enter marks\"))\n",
    "sub2 = float(input(\"Enter marks\"))\n",
    "sub3 = float(input(\"Enter marks\"))\n",
    "sub4 = float(input(\"Enter marks\"))\n",
    "sub5 = float(input(\"Enter marks\"))\n",
    "percentage = (sub1+sub2+sub3+sub4+sub5)/5\n",
    "print(\"Percentage :- \" + str(percentage))\n",
    "if percentage >= 90:\n",
    "    print(\"Grade A\")\n",
    "elif percentage >= 80:\n",
    "    print(\"Grade B\")\n",
    "elif percentage >= 70:\n",
    "    print(\"Grade C\")\n",
    "elif percentage >= 60:\n",
    "    print(\"Grade D\")\n",
    "elif percentage >= 50:\n",
    "    print(\"Grade E\")\n",
    "elif percentage < 50:\n",
    "    print(\"Grade F\")\n",
    "else:\n",
    "    print(\"Invalid percentage\")"
   ]
  },
  {
   "cell_type": "code",
   "execution_count": null,
   "id": "247df091",
   "metadata": {},
   "outputs": [],
   "source": [
    "# palindrome \n",
    "num = int(input(\"Enter no.\"))\n",
    "temp = num\n",
    "rev = 0\n",
    "while num > 0: # the loop will run till the input number is greater than 0\n",
    "    dig = num % 10 # get last digit i.e if num=234 then dig=4\n",
    "    rev = (rev * 10) + dig # i.e rev=0*10+4=4 then rev=4*10+3=43 then rev=43*10+2=432\n",
    "    num = num // 10 # remove last digit i.e num=234//10=23 then num=23//10=2 then num=2//10=0\n",
    "if temp == rev:\n",
    "    print(\"Palindrome\")\n",
    "else:\n",
    "    print(\"Not Palindrome\")"
   ]
  },
  {
   "cell_type": "code",
   "execution_count": null,
   "id": "c54c4ff3",
   "metadata": {},
   "outputs": [],
   "source": [
    "# agian  palindrome\n",
    "num = int(input(\"ENter no .\"))\n",
    "temp = num \n",
    "rev = 0 \n",
    "while num >0 :\n",
    "    dig = num % 10 \n",
    "    rev = (rev *10 ) + dig\n",
    "    num = num // 10 \n",
    "    if temp == rev :\n",
    "        print(\"Palindrome\")\n",
    "    else:\n",
    "        print(\"Not Palindrome\")"
   ]
  },
  {
   "cell_type": "code",
   "execution_count": null,
   "id": "ad5b0039",
   "metadata": {},
   "outputs": [],
   "source": [
    "# armstrong number\n",
    "num = int(input(\"Enter no.\"))\n",
    "sum = 0\n",
    "temp = num\n",
    "while temp > 0:\n",
    "    dig = temp % 10\n",
    "    sum += dig ** 3\n",
    "    temp //= 10\n",
    "if num == sum:\n",
    "    print(\"Armstrong number\")\n",
    "else:\n",
    "    print(\"Not Armstrong number\")"
   ]
  },
  {
   "cell_type": "code",
   "execution_count": null,
   "id": "6ef18f40",
   "metadata": {},
   "outputs": [],
   "source": [
    "# perfect number ie. sum of its proper divisors (excluding itself) equals the number\n",
    "num = int(input(\"Enter no.\"))\n",
    "sum = 0\n",
    "for i in range(1, num): # loop from 1 to num-1\n",
    "    if num % i == 0:\n",
    "        sum += i\n",
    "if sum == num:\n",
    "    print(\"Perfect number\")\n",
    "else:\n",
    "    print(\"Not Perfect number\") \n",
    "    "
   ]
  },
  {
   "cell_type": "code",
   "execution_count": null,
   "id": "831f2d19",
   "metadata": {},
   "outputs": [],
   "source": [
    "# pattern \n",
    "n = int(input(\"Enter no. of rows :- \"))\n",
    "for i in range (1, n+1):\n",
    "        for j in range (1, i+1):\n",
    "            print (j, end=\" \")\n",
    "        print() # for new line"
   ]
  },
  {
   "cell_type": "code",
   "execution_count": null,
   "id": "b80b59fd",
   "metadata": {},
   "outputs": [],
   "source": [
    "row = int(input(\"Enter the no. of rows: \"))\n",
    "for i in range (1 , row +1 ):\n",
    "    for j in range (1 , i + 1):\n",
    "        print ('*', end = \" \")\n",
    "    print() # for new line"
   ]
  },
  {
   "cell_type": "code",
   "execution_count": null,
   "id": "ec0ccd79",
   "metadata": {},
   "outputs": [],
   "source": [
    "# each number in new line of triangle\n",
    "NUM = int(input(\"ENTER NO. :- \"))\n",
    "n = 1\n",
    "for i in range (1 , NUM + 1):\n",
    "    for j in range (1 , i + 1):\n",
    "        print (n , end = \" \")\n",
    "        n = n + 1\n",
    "    print() # for new line"
   ]
  },
  {
   "cell_type": "code",
   "execution_count": null,
   "id": "e6071285",
   "metadata": {},
   "outputs": [],
   "source": [
    "# PRINT spaces then number in each line of triangle\n",
    "num = int(input(\"ENTER NO. :- \"))\n",
    "for i in range (1 , num + 1):\n",
    "    for j in range (num , i , -1):\n",
    "        print (\" \" , end = \" \")\n",
    "    for k in range (1 , i + 1):\n",
    "        print (k , end = \" \")\n",
    "    print() # for new line"
   ]
  },
  {
   "cell_type": "code",
   "execution_count": null,
   "id": "f1f8b03e",
   "metadata": {},
   "outputs": [],
   "source": []
  },
  {
   "cell_type": "code",
   "execution_count": null,
   "id": "52039804",
   "metadata": {},
   "outputs": [],
   "source": [
    "# 1\n",
    "# 2 4\n",
    "# 3 9 27\n",
    "# 4 16 64 256\n",
    "n = int(input(\"Enter no. of rows :- \")) \n",
    "for i in range (1 , n + 1):# for the rows \n",
    "    for j in range (1 , i + 1):# for the powers and columns\n",
    "        print (i ** j , end = \" \")\n",
    "    print() # for new line\n"
   ]
  },
  {
   "cell_type": "code",
   "execution_count": null,
   "id": "8a150cf4",
   "metadata": {},
   "outputs": [],
   "source": [
    "# prime \n",
    "n = int(input(\"Enter no:- \" ))\n",
    "if n == 1:\n",
    "    print(\"Not prime\")\n",
    "else:\n",
    "    for i in range(2, n):\n",
    "        if n % i == 0:\n",
    "            print(\"Not prime\")\n",
    "            break\n",
    "    else:\n",
    "        print(\"Prime\")"
   ]
  },
  {
   "cell_type": "code",
   "execution_count": 11,
   "id": "ae0add99",
   "metadata": {},
   "outputs": [
    {
     "name": "stdout",
     "output_type": "stream",
     "text": [
      "2\n",
      "3\n"
     ]
    }
   ],
   "source": [
    "# print all primes before n using flag \n",
    "n = int(input(\"Enter no:- \" ))\n",
    "for num in range(2, n):\n",
    "    is_prime = True\n",
    "    for i in range(2, num):\n",
    "        if num % i == 0:\n",
    "            is_prime = False\n",
    "            break\n",
    "    if is_prime==True:\n",
    "        print(num)\n"
   ]
  },
  {
   "cell_type": "code",
   "execution_count": 12,
   "id": "d9f910fd",
   "metadata": {},
   "outputs": [
    {
     "name": "stdout",
     "output_type": "stream",
     "text": [
      "2 \n",
      "2 3 \n",
      "2 3 5 \n",
      "2 3 5 7 \n",
      "2 3 5 7 11 \n"
     ]
    }
   ],
   "source": [
    "#2 \n",
    "# 2 3 \n",
    "# 2 3 5 \n",
    "# 2 3 5 7\n",
    "n = int(input(\"Enter no. of rows :- \"))\n",
    "primes = [2, 3, 5, 7, 11, 13, 17, 19, 23, 29, 31, 37, 41, 43, 47] # list of first few prime numbers\n",
    "for i in range(1, n + 1):\n",
    "    for j in range(i):\n",
    "        print(primes[j], end=\" \")\n",
    "    print()  # for new line\n"
   ]
  },
  {
   "cell_type": "code",
   "execution_count": 23,
   "id": "2697e194",
   "metadata": {},
   "outputs": [
    {
     "name": "stdout",
     "output_type": "stream",
     "text": [
      "          1 \n",
      "        1 2 \n",
      "      1 2 3 \n",
      "    1 2 3 4 \n",
      "  1 2 3 4 5 \n",
      "1 2 3 4 5 6 \n"
     ]
    }
   ],
   "source": [
    "#     1\n",
    "#   1 2\n",
    "# 1 2 3\n",
    "n = int(input(\"Enter no. of rows :- \"))\n",
    "for i in range(1, n + 1):# for rows printing\n",
    "    for j in range(1, n - i + 1):# for spaces printing\n",
    "        print(\" \", end=\" \")\n",
    "    for k in range(1, i + 1):# for numbers printing\n",
    "        print(k, end=\" \")\n",
    "    print()  # for new line"
   ]
  },
  {
   "cell_type": "code",
   "execution_count": 14,
   "id": "da874fa8",
   "metadata": {},
   "outputs": [
    {
     "name": "stdout",
     "output_type": "stream",
     "text": [
      "1 \n",
      "1 2 \n",
      "1 2 3 \n",
      "1 2 3 4 \n",
      "1 2 3 4 5 \n"
     ]
    }
   ],
   "source": [
    "# 2 \n",
    "N = int(input(\"ENTER NO. :- \"))\n",
    "for i in range (1 , N + 1):\n",
    "    for j in range (1 , i + 1):\n",
    "        print (j , end = \" \")\n",
    "    print()"
   ]
  },
  {
   "cell_type": "code",
   "execution_count": 40,
   "id": "30920f17",
   "metadata": {},
   "outputs": [
    {
     "name": "stdout",
     "output_type": "stream",
     "text": [
      "2 \n",
      "3 5 \n",
      "7 11 13 \n",
      "17 19 23 29 \n",
      "31 37 41 43 47 \n",
      "53 59 61 67 71 73 \n",
      "79 83 89 97 101 103 107 \n",
      "109 113 127 131 137 139 149 151 \n"
     ]
    }
   ],
   "source": [
    "# prime number triangle\n",
    "a = int(input(\"ENTER NO. :- \"))\n",
    "count = 0\n",
    "num = 2\n",
    "for i in range(1, a + 1):\n",
    "    for j in range(i): # print i primes in ith row\n",
    "        while True:\n",
    "            for k in range(2, int(num**0.5) + 1): # check for factors from 2 to sqrt(num)\n",
    "                if num % k == 0:\n",
    "                    break\n",
    "            else:\n",
    "                print(num, end=\" \")\n",
    "                count += 1\n",
    "                num += 1\n",
    "                break\n",
    "            num += 1\n",
    "    print()  # for new line"
   ]
  },
  {
   "cell_type": "code",
   "execution_count": 43,
   "id": "887e1b72",
   "metadata": {},
   "outputs": [
    {
     "name": "stdout",
     "output_type": "stream",
     "text": [
      "1 2 3 4 5 \n",
      "  1 2 3 4 \n",
      "    1 2 3 \n",
      "      1 2 \n",
      "        1 \n"
     ]
    }
   ],
   "source": [
    "# 1 2 3 4 5 \n",
    "#   1 2 3 4\n",
    "n = int(input(\"Enter no. of rows :- \"))\n",
    "for i in range (1 , n + 1): # for rows printing\n",
    "    for j in range (1 , i, ): # for spaces printing\n",
    "        print (\" \" , end = \" \")\n",
    "    for k in range (1 , n - i + 2): # for numbers printing\n",
    "        print (k , end = \" \")\n",
    "    print() # for new line"
   ]
  },
  {
   "cell_type": "code",
   "execution_count": 54,
   "id": "8df24d14",
   "metadata": {},
   "outputs": [
    {
     "name": "stdout",
     "output_type": "stream",
     "text": [
      "    1 \n",
      "   1 2 \n",
      "  1 2 3 \n",
      " 1 2 3 4 \n",
      "1 2 3 4 5 \n"
     ]
    }
   ],
   "source": [
    "n = int(input(\"Enter no. of rows :- \"))\n",
    "for i in range(n):\n",
    "    # Print spaces for centering\n",
    "    print(\" \" * (n - i - 1), end=\"\")\n",
    "    # Print letters for this row\n",
    "    for j in range(i + 1):\n",
    "        print(j + 1, end=\" \")\n",
    "        \n",
    "    print()"
   ]
  },
  {
   "cell_type": "code",
   "execution_count": 63,
   "id": "0ec1c138",
   "metadata": {},
   "outputs": [
    {
     "name": "stdout",
     "output_type": "stream",
     "text": [
      "    1 \n",
      "   1 2 \n",
      "  1 2 3 \n",
      " 1 2 3 4 \n",
      "1 2 3 4 5 \n",
      " 1 2 3 4 \n",
      "  1 2 3 \n",
      "   1 2 \n",
      "    1 \n"
     ]
    }
   ],
   "source": [
    "#    1\n",
    "#   1  2\n",
    "#  1  2  3\n",
    "#   1  2\n",
    "#    1\n",
    "n = int(input(\"Enter no. of rows :- \"))\n",
    "for i in range(n):\n",
    "    # Print spaces for centering\n",
    "    print(\" \" * (n - i - 1), end=\"\")\n",
    "    # Print letters for this row\n",
    "    for j in range(i + 1):\n",
    "        print(j + 1, end=\" \")\n",
    "        \n",
    "    print()\n",
    "for i in range(n-1, 0, -1): # n = 5 then i=4,3,2,1\n",
    "    # Print spaces for centering\n",
    "    print(\" \" * (n - i), end=\"\") # n =5 i=4 then 5-4=1 space , i=3 then 5-3=2 spaces\n",
    "    # Print letters for this row\n",
    "    for j in range(i):\n",
    "        print(j + 1, end=\" \")\n",
    "        \n",
    "    print()"
   ]
  },
  {
   "cell_type": "code",
   "execution_count": 1,
   "id": "412a1325",
   "metadata": {},
   "outputs": [
    {
     "name": "stdout",
     "output_type": "stream",
     "text": [
      "10\n"
     ]
    }
   ],
   "source": [
    "# functions \n",
    "def sum (a,b):\n",
    "    c = a+b \n",
    "    return c\n",
    "x = int(input(\"No.\"))\n",
    "y = int(input(\"no.\"))\n",
    "z = sum (x,y)\n",
    "print (z)"
   ]
  },
  {
   "cell_type": "code",
   "execution_count": 8,
   "id": "fc941238",
   "metadata": {},
   "outputs": [
    {
     "name": "stdout",
     "output_type": "stream",
     "text": [
      "(4, 0, 4, 1.0, 0, 4)\n"
     ]
    }
   ],
   "source": [
    "def maths(a, b):\n",
    "    add = a + b\n",
    "    sub = a - b\n",
    "    multi = a * b\n",
    "    div = a / b\n",
    "    rem = a % b\n",
    "    power = a**b\n",
    "    return add, sub, multi, div, rem, power\n",
    "\n",
    "x = int(input(\"Enter first number: \"))\n",
    "y = int(input(\"Enter second number: \"))\n",
    "result = maths(x, y)\n",
    "print(result)  # Prints the tuple: (addition, subtraction, multiplication, division, remainder)\n"
   ]
  },
  {
   "cell_type": "code",
   "execution_count": 1,
   "id": "2d564e5d",
   "metadata": {},
   "outputs": [
    {
     "name": "stdout",
     "output_type": "stream",
     "text": [
      "Hello, Amy Watson\n",
      "Hello, Amy Turin\n"
     ]
    }
   ],
   "source": [
    "def greet(first, last):\n",
    "    print(\"Hello,\", first, last)\n",
    "\n",
    "greet(\"Amy\", \"Watson\")  # Correct\n",
    "greet(\"Amy\", \"Turin\")  # Error: missing required argument\n"
   ]
  },
  {
   "cell_type": "code",
   "execution_count": 1,
   "id": "ca124c5b",
   "metadata": {},
   "outputs": [
    {
     "name": "stdout",
     "output_type": "stream",
     "text": [
      "Number of vowels in the string: 3\n"
     ]
    }
   ],
   "source": [
    "def count_vowels(s):\n",
    "    vowels = set('aeiouAEIOU')\n",
    "    return sum(1 for char in s if char in vowels)\n",
    "\n",
    "if __name__ == \"__main__\":\n",
    "    user_string = input(\"Enter a string: \")\n",
    "    vowel_count = count_vowels(user_string)\n",
    "    print(f\"Number of vowels in the string: {vowel_count}\")"
   ]
  },
  {
   "cell_type": "code",
   "execution_count": 9,
   "id": "69e3bfc5",
   "metadata": {},
   "outputs": [
    {
     "name": "stdout",
     "output_type": "stream",
     "text": [
      "120\n"
     ]
    }
   ],
   "source": [
    "\n",
    "def fact(x):\n",
    "    if x == 1:\n",
    "        return 1 \n",
    "    else :\n",
    "        return (x * fact(x-1))\n",
    "    \n",
    "n = int(input(\"Number :-\"))\n",
    "c = fact(n)\n",
    "print (c)"
   ]
  },
  {
   "cell_type": "code",
   "execution_count": 12,
   "id": "6fcb1c79",
   "metadata": {},
   "outputs": [
    {
     "name": "stdout",
     "output_type": "stream",
     "text": [
      "The first 5 Fibonacci numbers are: [0, 1, 1, 2, 3]\n"
     ]
    }
   ],
   "source": [
    "# fibonacci using functions \n",
    "def fibonacci(n):\n",
    "    \n",
    "    if n <= 0:\n",
    "        print(\"Please enter a positive integer\")\n",
    "        return\n",
    "    \n",
    "    fib_sequence = [0, 1]\n",
    "    \n",
    "    for i in range(2, n):\n",
    "        fib_sequence.append(fib_sequence[-1] + fib_sequence[-2])\n",
    "    \n",
    "    print(f\"The first {n} Fibonacci numbers are: {fib_sequence[:n]}\")\n",
    "\n",
    "\n",
    "if __name__ == \"__main__\":\n",
    "    try:\n",
    "        n = int(input(\"Enter the number of Fibonacci numbers to generate: \"))\n",
    "        fibonacci(n)\n",
    "    except ValueError:\n",
    "        print(\"Please enter a valid integer\")"
   ]
  },
  {
   "cell_type": "code",
   "execution_count": null,
   "id": "e8e85a7b",
   "metadata": {},
   "outputs": [],
   "source": [
    "def fib (x)"
   ]
  }
 ],
 "metadata": {
  "kernelspec": {
   "display_name": ".venv (3.13.5)",
   "language": "python",
   "name": "python3"
  },
  "language_info": {
   "codemirror_mode": {
    "name": "ipython",
    "version": 3
   },
   "file_extension": ".py",
   "mimetype": "text/x-python",
   "name": "python",
   "nbconvert_exporter": "python",
   "pygments_lexer": "ipython3",
   "version": "3.13.5"
  }
 },
 "nbformat": 4,
 "nbformat_minor": 5
}
