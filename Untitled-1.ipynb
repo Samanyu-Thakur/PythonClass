{
 "cells": [
  {
   "cell_type": "markdown",
   "id": "276d1bb6",
   "metadata": {},
   "source": [
    "IF CASES "
   ]
  },
  {
   "cell_type": "code",
   "execution_count": null,
   "id": "675a9893",
   "metadata": {},
   "outputs": [],
   "source": [
    "age = int(input(\"Enter your age :- \"))\n",
    "if age >=18:\n",
    "    print(\"Eligible\")\n",
    "else:\n",
    "    print(\"Not eligible\")"
   ]
  },
  {
   "cell_type": "code",
   "execution_count": null,
   "id": "47062a25",
   "metadata": {},
   "outputs": [],
   "source": [
    "side1 = int(input(\"Enter side1 :- \"))\n",
    "side2 = int(input(\"Enter side2 :- \"))\n",
    "side3 = int(input(\"Enter side3 :- \"))\n",
    "if side1+side2>side3 and side2+side3>side1 and side1+side3>side2:\n",
    "    print(\"Valid triangle\")\n",
    "else:\n",
    "    print(\"Invalid triangle\")"
   ]
  },
  {
   "cell_type": "code",
   "execution_count": null,
   "id": "3bccf9c4",
   "metadata": {},
   "outputs": [],
   "source": [
    "# calculator \n",
    "num1 = int(input(\"Enter first number :- \"))\n",
    "num2 = int(input(\"Enter second number :- \"))\n",
    "operation = input(\"Enter operation (+,-,*,/,%) :- \")\n",
    "if operation == '+':\n",
    "    print(num1 + num2)\n",
    "elif operation == '-':\n",
    "    print(num1 - num2)\n",
    "elif operation == '*':\n",
    "    print(num1 * num2)\n",
    "elif operation == '/':\n",
    "    if num2 != 0:\n",
    "        print(num1 / num2)\n",
    "    else:\n",
    "        print(\"Error: Division by zero\")\n",
    "elif operation == '%':\n",
    "    if num2 != 0:\n",
    "        print(num1 % num2)\n",
    "    else:\n",
    "        print(\"Error: Division by zero\")"
   ]
  },
  {
   "cell_type": "markdown",
   "id": "e991aea5",
   "metadata": {},
   "source": [
    "MATCH CASE"
   ]
  },
  {
   "cell_type": "code",
   "execution_count": null,
   "id": "aa730867",
   "metadata": {},
   "outputs": [],
   "source": [
    "#switch case calculator\n",
    "num1 = int(input(\"Enter first number :- \"))\n",
    "num2 = int(input(\"Enter second number :- \"))\n",
    "operation = input(\"Enter operation (+,-,*,/,%) :- \")\n",
    "match operation:\n",
    "    case '+':\n",
    "        print(num1 + num2)\n",
    "    case '-':\n",
    "        print(num1 - num2)\n",
    "    case '*':\n",
    "        print(num1 * num2)\n",
    "    case '/':\n",
    "        if num2 != 0:\n",
    "            print(num1 / num2)\n",
    "        else:\n",
    "            print(\"Error: Division by zero\")\n",
    "    case '%':\n",
    "        if num2 != 0:\n",
    "            print(num1 % num2)\n",
    "        else:\n",
    "            print(\"Error: Division by zero\")\n",
    "    case _:\n",
    "        print(\"Invalid operation\")\n"
   ]
  },
  {
   "cell_type": "code",
   "execution_count": null,
   "id": "b41dbbe4",
   "metadata": {},
   "outputs": [],
   "source": [
    "# DAYS OF WEEK USING SWITCH CASE\n",
    "day = int(input(\"Enter day number (1-7) :- \"))\n",
    "match day:\n",
    "    case 1:\n",
    "        print(\"Monday\")\n",
    "    case 2: \n",
    "        print(\"Tuesday\")\n",
    "    case 3:\n",
    "        print(\"Wednesday\")\n",
    "    case 4:\n",
    "        print(\"Thursday\")\n",
    "    case 5:\n",
    "        print(\"Friday\")\n",
    "    case 6:\n",
    "        print(\"Saturday\")\n",
    "    case 7:\n",
    "        print(\"Sunday\")\n",
    "    case _:\n",
    "        print(\"Invalid day number\")"
   ]
  },
  {
   "cell_type": "code",
   "execution_count": null,
   "id": "64df61fc",
   "metadata": {},
   "outputs": [
    {
     "name": "stdout",
     "output_type": "stream",
     "text": [
      "Digit\n"
     ]
    }
   ],
   "source": [
    "#a -z  print small character , A-Z print capital character , 0-9 print digit , special character using switch case\n",
    "char = input(\"Enter a character :- \")\n",
    "match char:\n",
    "    case _ if char>='a' and char<='z':\n",
    "        print(\"Small character\")     \n",
    "    case _ if char>='A' and char<='Z':\n",
    "        print(\"Capital character\")\n",
    "    case _ if char>='0' and char<='9':\n",
    "        print(\"Digit\")\n",
    "    case _:\n",
    "        print(\"Special character\")\n",
    "\n"
   ]
  },
  {
   "cell_type": "markdown",
   "id": "733112f5",
   "metadata": {},
   "source": [
    "LOOPS"
   ]
  },
  {
   "cell_type": "code",
   "execution_count": null,
   "id": "16cdf122",
   "metadata": {},
   "outputs": [],
   "source": [
    "# 5 subjects percentage and grade\n",
    "sub1 = float(input(\"Enter marks\"))\n",
    "sub2 = float(input(\"Enter marks\"))\n",
    "sub3 = float(input(\"Enter marks\"))\n",
    "sub4 = float(input(\"Enter marks\"))\n",
    "sub5 = float(input(\"Enter marks\"))\n",
    "percentage = (sub1+sub2+sub3+sub4+sub5)/5\n",
    "print(\"Percentage :- \" + str(percentage))\n",
    "if percentage >= 90:\n",
    "    print(\"Grade A\")\n",
    "elif percentage >= 80:\n",
    "    print(\"Grade B\")\n",
    "elif percentage >= 70:\n",
    "    print(\"Grade C\")\n",
    "elif percentage >= 60:\n",
    "    print(\"Grade D\")\n",
    "elif percentage >= 50:\n",
    "    print(\"Grade E\")\n",
    "elif percentage < 50:\n",
    "    print(\"Grade F\")\n",
    "else:\n",
    "    print(\"Invalid percentage\")"
   ]
  },
  {
   "cell_type": "code",
   "execution_count": null,
   "id": "247df091",
   "metadata": {},
   "outputs": [
    {
     "name": "stdout",
     "output_type": "stream",
     "text": [
      "Palindrome\n"
     ]
    }
   ],
   "source": [
    "# palindrome \n",
    "num = int(input(\"Enter no.\"))\n",
    "temp = num\n",
    "rev = 0\n",
    "while num > 0: # the loop will run till the input number is greater than 0\n",
    "    dig = num % 10 # get last digit i.e if num=234 then dig=4\n",
    "    rev = (rev * 10) + dig # i.e rev=0*10+4=4 then rev=4*10+3=43 then rev=43*10+2=432\n",
    "    num = num // 10 # remove last digit i.e num=234//10=23 then num=23//10=2 then num=2//10=0\n",
    "if temp == rev:\n",
    "    print(\"Palindrome\", rev)\n",
    "else:\n",
    "    print(\"Not Palindrome\")"
   ]
  },
  {
   "cell_type": "code",
   "execution_count": null,
   "id": "c54c4ff3",
   "metadata": {},
   "outputs": [],
   "source": [
    "# agian  palindrome\n",
    "num = int(input(\"ENter no .\"))\n",
    "temp = num \n",
    "rev = 0 \n",
    "while num >0 :\n",
    "    dig = num % 10 \n",
    "    rev = (rev *10 ) + dig\n",
    "    num = num // 10 \n",
    "    if temp == rev :\n",
    "        print(\"Palindrome\")\n",
    "    else:\n",
    "        print(\"Not Palindrome\")"
   ]
  },
  {
   "cell_type": "code",
   "execution_count": null,
   "id": "ad5b0039",
   "metadata": {},
   "outputs": [
    {
     "name": "stdout",
     "output_type": "stream",
     "text": [
      "Armstrong number\n"
     ]
    }
   ],
   "source": [
    "# armstrong number\n",
    "num = int(input(\"Enter no.\"))\n",
    "sum = 0\n",
    "temp = num\n",
    "while temp > 0:\n",
    "    dig = temp % 10\n",
    "    sum += dig ** 3\n",
    "    temp //= 10\n",
    "if num == sum:\n",
    "    print(\"Armstrong number\")\n",
    "else:\n",
    "    print(\"Not Armstrong number\")"
   ]
  },
  {
   "cell_type": "code",
   "execution_count": null,
   "id": "6ef18f40",
   "metadata": {},
   "outputs": [],
   "source": [
    "# perfect number ie. sum of its proper divisors (excluding itself) equals the number\n",
    "num = int(input(\"Enter no.\"))\n",
    "sum = 0\n",
    "for i in range(1, num): # loop from 1 to num-1\n",
    "    if num % i == 0:\n",
    "        sum += i\n",
    "if sum == num:\n",
    "    print(\"Perfect number\")\n",
    "else:\n",
    "    print(\"Not Perfect number\") \n",
    "    "
   ]
  },
  {
   "cell_type": "markdown",
   "id": "c1229f57",
   "metadata": {},
   "source": [
    "Pattern programs\n"
   ]
  },
  {
   "cell_type": "code",
   "execution_count": null,
   "id": "831f2d19",
   "metadata": {},
   "outputs": [],
   "source": [
    "# pattern \n",
    "n = int(input(\"Enter no. of rows :- \"))\n",
    "for i in range (1, n+1):\n",
    "        for j in range (1, i+1):\n",
    "            print (j, end=\" \")\n",
    "        print() # for new line"
   ]
  },
  {
   "cell_type": "code",
   "execution_count": null,
   "id": "04f93590",
   "metadata": {},
   "outputs": [],
   "source": []
  },
  {
   "cell_type": "code",
   "execution_count": null,
   "id": "b80b59fd",
   "metadata": {},
   "outputs": [],
   "source": [
    "row = int(input(\"Enter the no. of rows: \"))\n",
    "for i in range (1 , row +1 ):\n",
    "    for j in range (1 , i + 1):\n",
    "        print ('*', end = \" \")\n",
    "    print() # for new line"
   ]
  },
  {
   "cell_type": "code",
   "execution_count": null,
   "id": "ec0ccd79",
   "metadata": {},
   "outputs": [],
   "source": [
    "# each number in new line of triangle\n",
    "NUM = int(input(\"ENTER NO. :- \"))\n",
    "n = 1\n",
    "for i in range (1 , NUM + 1):\n",
    "    for j in range (1 , i + 1):\n",
    "        print (n , end = \" \")\n",
    "        n = n + 1\n",
    "    print() # for new line"
   ]
  },
  {
   "cell_type": "code",
   "execution_count": null,
   "id": "e6071285",
   "metadata": {},
   "outputs": [],
   "source": [
    "# PRINT spaces then number in each line of triangle\n",
    "num = int(input(\"ENTER NO. :- \"))\n",
    "for i in range (1 , num + 1):\n",
    "    for j in range (num , i , -1):\n",
    "        print (\" \" , end = \" \")\n",
    "    for k in range (1 , i + 1):\n",
    "        print (k , end = \" \")\n",
    "    print() # for new line"
   ]
  },
  {
   "cell_type": "code",
   "execution_count": null,
   "id": "f1f8b03e",
   "metadata": {},
   "outputs": [],
   "source": []
  },
  {
   "cell_type": "code",
   "execution_count": null,
   "id": "52039804",
   "metadata": {},
   "outputs": [],
   "source": [
    "# 1\n",
    "# 2 4\n",
    "# 3 9 27\n",
    "# 4 16 64 256\n",
    "n = int(input(\"Enter no. of rows :- \")) \n",
    "for i in range (1 , n + 1):# for the rows \n",
    "    for j in range (1 , i + 1):# for the powers and columns\n",
    "        print (i ** j , end = \" \")\n",
    "    print() # for new line\n"
   ]
  },
  {
   "cell_type": "code",
   "execution_count": null,
   "id": "8a150cf4",
   "metadata": {},
   "outputs": [],
   "source": [
    "# prime \n",
    "n = int(input(\"Enter no:- \" ))\n",
    "if n == 1:\n",
    "    print(\"Not prime\")\n",
    "else:\n",
    "    for i in range(2, n):\n",
    "        if n % i == 0:\n",
    "            print(\"Not prime\")\n",
    "            break\n",
    "    else:\n",
    "        print(\"Prime\")"
   ]
  },
  {
   "cell_type": "code",
   "execution_count": 11,
   "id": "ae0add99",
   "metadata": {},
   "outputs": [
    {
     "name": "stdout",
     "output_type": "stream",
     "text": [
      "2\n",
      "3\n"
     ]
    }
   ],
   "source": [
    "# print all primes before n using flag \n",
    "n = int(input(\"Enter no:- \" ))\n",
    "for num in range(2, n):\n",
    "    is_prime = True\n",
    "    for i in range(2, num):\n",
    "        if num % i == 0:\n",
    "            is_prime = False\n",
    "            break\n",
    "    if is_prime==True:\n",
    "        print(num)\n"
   ]
  },
  {
   "cell_type": "code",
   "execution_count": 12,
   "id": "d9f910fd",
   "metadata": {},
   "outputs": [
    {
     "name": "stdout",
     "output_type": "stream",
     "text": [
      "2 \n",
      "2 3 \n",
      "2 3 5 \n",
      "2 3 5 7 \n",
      "2 3 5 7 11 \n"
     ]
    }
   ],
   "source": [
    "#2 \n",
    "# 2 3 \n",
    "# 2 3 5 \n",
    "# 2 3 5 7\n",
    "n = int(input(\"Enter no. of rows :- \"))\n",
    "primes = [2, 3, 5, 7, 11, 13, 17, 19, 23, 29, 31, 37, 41, 43, 47] # list of first few prime numbers\n",
    "for i in range(1, n + 1):\n",
    "    for j in range(i):\n",
    "        print(primes[j], end=\" \")\n",
    "    print()  # for new line\n"
   ]
  },
  {
   "cell_type": "code",
   "execution_count": 23,
   "id": "2697e194",
   "metadata": {},
   "outputs": [
    {
     "name": "stdout",
     "output_type": "stream",
     "text": [
      "          1 \n",
      "        1 2 \n",
      "      1 2 3 \n",
      "    1 2 3 4 \n",
      "  1 2 3 4 5 \n",
      "1 2 3 4 5 6 \n"
     ]
    }
   ],
   "source": [
    "#     1\n",
    "#   1 2\n",
    "# 1 2 3\n",
    "n = int(input(\"Enter no. of rows :- \"))\n",
    "for i in range(1, n + 1):# for rows printing\n",
    "    for j in range(1, n - i + 1):# for spaces printing\n",
    "        print(\" \", end=\" \")\n",
    "    for k in range(1, i + 1):# for numbers printing\n",
    "        print(k, end=\" \")\n",
    "    print()  # for new line"
   ]
  },
  {
   "cell_type": "code",
   "execution_count": 14,
   "id": "da874fa8",
   "metadata": {},
   "outputs": [
    {
     "name": "stdout",
     "output_type": "stream",
     "text": [
      "1 \n",
      "1 2 \n",
      "1 2 3 \n",
      "1 2 3 4 \n",
      "1 2 3 4 5 \n"
     ]
    }
   ],
   "source": [
    "# 2 \n",
    "N = int(input(\"ENTER NO. :- \"))\n",
    "for i in range (1 , N + 1):\n",
    "    for j in range (1 , i + 1):\n",
    "        print (j , end = \" \")\n",
    "    print()"
   ]
  },
  {
   "cell_type": "code",
   "execution_count": 40,
   "id": "30920f17",
   "metadata": {},
   "outputs": [
    {
     "name": "stdout",
     "output_type": "stream",
     "text": [
      "2 \n",
      "3 5 \n",
      "7 11 13 \n",
      "17 19 23 29 \n",
      "31 37 41 43 47 \n",
      "53 59 61 67 71 73 \n",
      "79 83 89 97 101 103 107 \n",
      "109 113 127 131 137 139 149 151 \n"
     ]
    }
   ],
   "source": [
    "# prime number triangle\n",
    "a = int(input(\"ENTER NO. :- \"))\n",
    "count = 0\n",
    "num = 2\n",
    "for i in range(1, a + 1):\n",
    "    for j in range(i): # print i primes in ith row\n",
    "        while True:\n",
    "            for k in range(2, int(num**0.5) + 1): # check for factors from 2 to sqrt(num)\n",
    "                if num % k == 0:\n",
    "                    break\n",
    "            else:\n",
    "                print(num, end=\" \")\n",
    "                count += 1\n",
    "                num += 1\n",
    "                break\n",
    "            num += 1\n",
    "    print()  # for new line"
   ]
  },
  {
   "cell_type": "code",
   "execution_count": 43,
   "id": "887e1b72",
   "metadata": {},
   "outputs": [
    {
     "name": "stdout",
     "output_type": "stream",
     "text": [
      "1 2 3 4 5 \n",
      "  1 2 3 4 \n",
      "    1 2 3 \n",
      "      1 2 \n",
      "        1 \n"
     ]
    }
   ],
   "source": [
    "# 1 2 3 4 5 \n",
    "#   1 2 3 4\n",
    "n = int(input(\"Enter no. of rows :- \"))\n",
    "for i in range (1 , n + 1): # for rows printing\n",
    "    for j in range (1 , i, ): # for spaces printing\n",
    "        print (\" \" , end = \" \")\n",
    "    for k in range (1 , n - i + 2): # for numbers printing\n",
    "        print (k , end = \" \")\n",
    "    print() # for new line"
   ]
  },
  {
   "cell_type": "code",
   "execution_count": 54,
   "id": "8df24d14",
   "metadata": {},
   "outputs": [
    {
     "name": "stdout",
     "output_type": "stream",
     "text": [
      "    1 \n",
      "   1 2 \n",
      "  1 2 3 \n",
      " 1 2 3 4 \n",
      "1 2 3 4 5 \n"
     ]
    }
   ],
   "source": [
    "n = int(input(\"Enter no. of rows :- \"))\n",
    "for i in range(n):\n",
    "    # Print spaces for centering\n",
    "    print(\" \" * (n - i - 1), end=\"\")\n",
    "    # Print letters for this row\n",
    "    for j in range(i + 1):\n",
    "        print(j + 1, end=\" \")\n",
    "        \n",
    "    print()"
   ]
  },
  {
   "cell_type": "code",
   "execution_count": 63,
   "id": "0ec1c138",
   "metadata": {},
   "outputs": [
    {
     "name": "stdout",
     "output_type": "stream",
     "text": [
      "    1 \n",
      "   1 2 \n",
      "  1 2 3 \n",
      " 1 2 3 4 \n",
      "1 2 3 4 5 \n",
      " 1 2 3 4 \n",
      "  1 2 3 \n",
      "   1 2 \n",
      "    1 \n"
     ]
    }
   ],
   "source": [
    "#    1\n",
    "#   1  2\n",
    "#  1  2  3\n",
    "#   1  2\n",
    "#    1\n",
    "n = int(input(\"Enter no. of rows :- \"))\n",
    "for i in range(n):\n",
    "    # Print spaces for centering\n",
    "    print(\" \" * (n - i - 1), end=\"\")\n",
    "    # Print letters for this row\n",
    "    for j in range(i + 1):\n",
    "        print(j + 1, end=\" \")\n",
    "        \n",
    "    print()\n",
    "for i in range(n-1, 0, -1): # n = 5 then i=4,3,2,1\n",
    "    # Print spaces for centering\n",
    "    print(\" \" * (n - i), end=\"\") # n =5 i=4 then 5-4=1 space , i=3 then 5-3=2 spaces\n",
    "    # Print letters for this row\n",
    "    for j in range(i):\n",
    "        print(j + 1, end=\" \")\n",
    "        \n",
    "    print()"
   ]
  },
  {
   "cell_type": "markdown",
   "id": "dc55587d",
   "metadata": {},
   "source": [
    "Functions"
   ]
  },
  {
   "cell_type": "code",
   "execution_count": 1,
   "id": "412a1325",
   "metadata": {},
   "outputs": [
    {
     "name": "stdout",
     "output_type": "stream",
     "text": [
      "10\n"
     ]
    }
   ],
   "source": [
    "# functions \n",
    "def sum (a,b):\n",
    "    c = a+b \n",
    "    return c\n",
    "x = int(input(\"No.\"))\n",
    "y = int(input(\"no.\"))\n",
    "z = sum (x,y)\n",
    "print (z)"
   ]
  },
  {
   "cell_type": "code",
   "execution_count": 8,
   "id": "fc941238",
   "metadata": {},
   "outputs": [
    {
     "name": "stdout",
     "output_type": "stream",
     "text": [
      "(4, 0, 4, 1.0, 0, 4)\n"
     ]
    }
   ],
   "source": [
    "def maths(a, b):\n",
    "    add = a + b\n",
    "    sub = a - b\n",
    "    multi = a * b\n",
    "    div = a / b\n",
    "    rem = a % b\n",
    "    power = a**b\n",
    "    return add, sub, multi, div, rem, power\n",
    "\n",
    "x = int(input(\"Enter first number: \"))\n",
    "y = int(input(\"Enter second number: \"))\n",
    "result = maths(x, y)\n",
    "print(result)  # Prints the tuple: (addition, subtraction, multiplication, division, remainder)\n"
   ]
  },
  {
   "cell_type": "code",
   "execution_count": 1,
   "id": "2d564e5d",
   "metadata": {},
   "outputs": [
    {
     "name": "stdout",
     "output_type": "stream",
     "text": [
      "Hello, Amy Watson\n",
      "Hello, Amy Turin\n"
     ]
    }
   ],
   "source": [
    "def greet(first, last):\n",
    "    print(\"Hello,\", first, last)\n",
    "\n",
    "greet(\"Amy\", \"Watson\")  # Correct\n",
    "greet(\"Amy\", \"Turin\")  # Error: missing required argument\n"
   ]
  },
  {
   "cell_type": "code",
   "execution_count": 1,
   "id": "ca124c5b",
   "metadata": {},
   "outputs": [
    {
     "name": "stdout",
     "output_type": "stream",
     "text": [
      "Number of vowels in the string: 3\n"
     ]
    }
   ],
   "source": [
    "def count_vowels(s):\n",
    "    vowels = set('aeiouAEIOU')\n",
    "    return sum(1 for char in s if char in vowels)\n",
    "\n",
    "if __name__ == \"__main__\":\n",
    "    user_string = input(\"Enter a string: \")\n",
    "    vowel_count = count_vowels(user_string)\n",
    "    print(f\"Number of vowels in the string: {vowel_count}\")"
   ]
  },
  {
   "cell_type": "code",
   "execution_count": 9,
   "id": "69e3bfc5",
   "metadata": {},
   "outputs": [
    {
     "name": "stdout",
     "output_type": "stream",
     "text": [
      "120\n"
     ]
    }
   ],
   "source": [
    "\n",
    "def fact(x):\n",
    "    if x == 1:\n",
    "        return 1 \n",
    "    else :\n",
    "        return (x * fact(x-1))\n",
    "    \n",
    "n = int(input(\"Number :-\"))\n",
    "c = fact(n)\n",
    "print (c)"
   ]
  },
  {
   "cell_type": "code",
   "execution_count": 12,
   "id": "6fcb1c79",
   "metadata": {},
   "outputs": [
    {
     "name": "stdout",
     "output_type": "stream",
     "text": [
      "The first 5 Fibonacci numbers are: [0, 1, 1, 2, 3]\n"
     ]
    }
   ],
   "source": [
    "# fibonacci using functions \n",
    "def fibonacci(n):\n",
    "    \n",
    "    if n <= 0:\n",
    "        print(\"Please enter a positive integer\")\n",
    "        return\n",
    "    \n",
    "    fib_sequence = [0, 1]\n",
    "    \n",
    "    for i in range(2, n):\n",
    "        fib_sequence.append(fib_sequence[-1] + fib_sequence[-2])\n",
    "    \n",
    "    print(f\"The first {n} Fibonacci numbers are: {fib_sequence[:n]}\")\n",
    "\n",
    "\n",
    "if __name__ == \"__main__\":\n",
    "    try:\n",
    "        n = int(input(\"Enter the number of Fibonacci numbers to generate: \"))\n",
    "        fibonacci(n)\n",
    "    except ValueError:\n",
    "        print(\"Please enter a valid integer\")"
   ]
  },
  {
   "cell_type": "markdown",
   "id": "d62f91bc",
   "metadata": {},
   "source": [
    "LIST METHODS"
   ]
  },
  {
   "cell_type": "code",
   "execution_count": 3,
   "id": "e8e85a7b",
   "metadata": {},
   "outputs": [
    {
     "name": "stdout",
     "output_type": "stream",
     "text": [
      "Welcome to the Basic List Inputer!\n",
      "Your list is: ['gf ', 'g', ' ', 'g', '5', ' f', 'f']\n"
     ]
    }
   ],
   "source": [
    "def list_inputer():\n",
    "    my_list = []\n",
    "    while True:\n",
    "        item = input(\"Enter an item for the list (or 'done' to finish): \")\n",
    "        if item.lower() == 'done':\n",
    "            break\n",
    "        my_list.append(item)\n",
    "    return my_list\n",
    "\n",
    "\n",
    "print(\"Welcome to the Basic List Inputer!\")\n",
    "my_new_list = list_inputer()\n",
    "print(\"Your list is:\", my_new_list)\n"
   ]
  },
  {
   "cell_type": "code",
   "execution_count": 5,
   "id": "2b31e8de",
   "metadata": {},
   "outputs": [],
   "source": [
    "# Program including all functions on lists including operators\n",
    "\n",
    "def list_creation():\n",
    "    \"\"\"Demonstrates various ways to create lists.\"\"\"\n",
    "    print(\"\\n--- List Creation ---\")\n",
    "    list1 = [1, 2, 3, 4, 5]\n",
    "    print(f\"Directly created list: {list1}\")\n",
    "    list2 = list(range(5))\n",
    "    print(f\"List from range: {list2}\")\n",
    "    list3 = [x * 2 for x in range(5)]\n",
    "    print(f\"List using list comprehension: {list3}\")\n",
    "    list4 = list(\"hello\")\n",
    "    print(f\"List from a string: {list4}\")\n",
    "    empty_list = []\n",
    "    print(f\"Empty list: {empty_list}\")\n",
    "    mixed_list = [1, \"hello\", True, 3.14]\n",
    "    print(f\"Mixed data type list: {mixed_list}\")\n",
    "\n",
    "def list_access_and_slicing():\n",
    "    \"\"\"Demonstrates accessing elements and slicing lists.\"\"\"\n",
    "    print(\"\\n--- List Access and Slicing ---\")\n",
    "    my_list = [10, 20, 30, 40, 50, 60, 70]\n",
    "    print(f\"Original list: {my_list}\")\n",
    "\n",
    "    # Accessing elements\n",
    "    print(f\"First element (index 0): {my_list[0]}\")\n",
    "    print(f\"Last element (index -1): {my_list[-1]}\")\n",
    "    print(f\"Element at index 3: {my_list[3]}\")\n",
    "\n",
    "    # Slicing\n",
    "    print(f\"Slice from index 1 to 4 (exclusive): {my_list[1:5]}\")\n",
    "    print(f\"Slice from beginning to index 3 (exclusive): {my_list[:4]}\")\n",
    "    print(f\"Slice from index 2 to end: {my_list[2:]}\")\n",
    "    print(f\"Slice with a step of 2: {my_list[::2]}\")\n",
    "    print(f\"Reverse the list using slicing: {my_list[::-1]}\")\n"
   ]
  },
  {
   "cell_type": "code",
   "execution_count": 2,
   "id": "ccef25e7",
   "metadata": {},
   "outputs": [
    {
     "name": "stdout",
     "output_type": "stream",
     "text": [
      "Original list: [1, 2, 3, 4, 5]\n",
      "After append(6): [1, 2, 3, 4, 5, 6]\n",
      "After extend([7, 8]): [1, 2, 3, 4, 5, 6, 7, 8]\n",
      "After insert(0, 0): [0, 1, 2, 3, 4, 5, 6, 7, 8]\n",
      "After insert(5, 4.5): [0, 1, 2, 3, 4, 4.5, 5, 6, 7, 8]\n",
      "After remove(4.5): [0, 1, 2, 3, 4, 5, 6, 7, 8]\n",
      "After pop() (removed 8): [0, 1, 2, 3, 4, 5, 6, 7]\n",
      "After pop(0) (removed 0): [1, 2, 3, 4, 5, 6, 7]\n",
      "After clear() on temp_list: []\n"
     ]
    }
   ],
   "source": [
    "# Python program depicting each and every use of list functions\n",
    "\n",
    "# 1. Creating a list\n",
    "my_list = [1, 2, 3, 4, 5]\n",
    "print(f\"Original list: {my_list}\")\n",
    "\n",
    "# 2. append(): Adds an element at the end of the list\n",
    "my_list.append(6)\n",
    "print(f\"After append(6): {my_list}\")\n",
    "\n",
    "# 3. extend(): Add the elements of an iterable (like another list) to the end of the current list\n",
    "another_list = [7, 8]\n",
    "my_list.extend(another_list)\n",
    "print(f\"After extend([7, 8]): {my_list}\")\n",
    "\n",
    "# 4. insert(): Adds an element at the specified position\n",
    "my_list.insert(0, 0) # Insert 0 at index 0\n",
    "print(f\"After insert(0, 0): {my_list}\")\n",
    "my_list.insert(5, 4.5) # Insert 4.5 at index 5\n",
    "print(f\"After insert(5, 4.5): {my_list}\")\n",
    "\n",
    "# 5. remove(): Removes the first occurrence of the item with the specified value\n",
    "my_list.remove(4.5)\n",
    "print(f\"After remove(4.5): {my_list}\")\n",
    "# my_list.remove(100) # This would raise a ValueError if 100 is not in the list\n",
    "\n",
    "# 6. pop(): Removes the element at the specified position. If no index is specified, removes the last item.\n",
    "popped_item = my_list.pop() # Removes and returns the last item\n",
    "print(f\"After pop() (removed {popped_item}): {my_list}\")\n",
    "\n",
    "popped_item_at_index = my_list.pop(0) # Removes and returns the item at index 0\n",
    "print(f\"After pop(0) (removed {popped_item_at_index}): {my_list}\")\n",
    "\n",
    "# 7. clear(): Removes all the elements from the list\n",
    "temp_list = [10, 20, 30]\n",
    "temp_list.clear()\n",
    "print(f\"After clear() on temp_list: {temp_list}\")\n",
    "\n"
   ]
  },
  {
   "cell_type": "code",
   "execution_count": 3,
   "id": "60c2dcfd",
   "metadata": {},
   "outputs": [
    {
     "name": "stdout",
     "output_type": "stream",
     "text": [
      "[2, 1, 3, 5, 4]\n",
      "[1, 2, 3, 4, 5]\n",
      "['Aakash', 'Akash', 'Bunti', 'Dore', 'Homer']\n",
      "[5, 4, 3, 2, 1]\n",
      "[5, 3, 1, 2]\n",
      "[2, 1, 64, 3, 5]\n",
      "[2, 3, 1]\n",
      "[2, 1, 1]\n"
     ]
    }
   ],
   "source": [
    "#LIST METHODS\n",
    "list = [2,1,3,5] #List used in all methods\n",
    "#NO 1 - APPEND METHOD - KOI BHI CHIZ KO LIST KE END MEIN JODNA\n",
    "list.append(4)\n",
    "print(list)\n",
    "#NO 2 - SORT METHOD - VALUES KO ASCENDING YA DECENDING METHOD MEIN STORE KRTA HN\n",
    "#By default it gets arranged in ascending method\n",
    "list.sort()\n",
    "print(list)\n",
    "a = [\"Akash\",\"Homer\",\"Bunti\",\"Aakash\",\"Dore\"]\n",
    "a.sort()\n",
    "print(a) #IN CASE OF WORDS THEY GET ARRANGED ALPHABETICALLY\n",
    "#To get it in decendingorder method modifies - list.sort(reverse=True)\n",
    "list.sort(reverse=True)\n",
    "print(list)\n",
    "#NO 3 REVERSE LIST - ORIGINAL LIST KO REVERSE KR DETA HN\n",
    "list = [2,1,3,5]\n",
    "list.reverse()\n",
    "print(list)\n",
    "#NO 4 INSERT METHOD - KISI PARTICULAR POSITION PE KOI ELEMENT ADD KRNA\n",
    "list = [2,1,3,5]\n",
    "list.insert(2,64)\n",
    "print(list)\n",
    "#NO 5 REMOVE METHOD - KISI BHI VALUE KI FIRST OCCURANCE DELETE KRNA\n",
    "list1 = [2,1,3,1]\n",
    "list1.remove(1)\n",
    "print(list1)\n",
    "#NO 6 POP METHOD - REMOVES AN ELEMENT AT A PARTICULAR INDEX\n",
    "list1 = [2,1,3,1]\n",
    "list1.pop(2)\n",
    "print(list1)\n"
   ]
  },
  {
   "cell_type": "code",
   "execution_count": 4,
   "id": "38ad9970",
   "metadata": {},
   "outputs": [
    {
     "name": "stdout",
     "output_type": "stream",
     "text": [
      "my_list[2:5]: [2, 3, 4]\n",
      "my_list[:4]: [0, 1, 2, 3]\n",
      "my_list[6:]: [6, 7, 8, 9]\n",
      "my_list[:]: [0, 1, 2, 3, 4, 5, 6, 7, 8, 9]\n",
      "my_list[1:8:2]: [1, 3, 5, 7]\n",
      "my_list[::-1]: [9, 8, 7, 6, 5, 4, 3, 2, 1, 0]\n",
      "my_list[7:1:-1]: [7, 6, 5, 4, 3, 2]\n",
      "my_list[-3:]: <class 'slice'>\n"
     ]
    }
   ],
   "source": [
    "# Basic list slicing\n",
    "my_list = [0, 1, 2, 3, 4, 5, 6, 7, 8, 9]\n",
    "\n",
    "# Get elements from index 2 up to (but not including) index 5\n",
    "slice1 = my_list[2:5]\n",
    "print(f\"my_list[2:5]: {slice1}\")  # Output: [2, 3, 4]\n",
    "\n",
    "# Get elements from the beginning up to (but not including) index 4\n",
    "slice2 = my_list[:4]\n",
    "print(f\"my_list[:4]: {slice2}\")   # Output: [0, 1, 2, 3]\n",
    "\n",
    "# Get elements from index 6 to the end\n",
    "slice3 = my_list[6:]\n",
    "print(f\"my_list[6:]: {slice3}\")   # Output: [6, 7, 8, 9]\n",
    "\n",
    "# Get a copy of the entire list\n",
    "slice4 = my_list[:]\n",
    "print(f\"my_list[:]: {slice4}\")    # Output: [0, 1, 2, 3, 4, 5, 6, 7, 8, 9]\n",
    "\n",
    "# Get elements with a step of 2\n",
    "slice5 = my_list[1:8:2]\n",
    "print(f\"my_list[1:8:2]: {slice5}\") # Output: [1, 3, 5, 7]\n",
    "\n",
    "# Get elements in reverse order\n",
    "slice6 = my_list[::-1]\n",
    "print(f\"my_list[::-1]: {slice6}\")  # Output: [9, 8, 7, 6, 5, 4, 3, 2, 1, 0]\n",
    "\n",
    "# Get elements from index 7 down to index 2 (exclusive) with a step of -1\n",
    "slice7 = my_list[7:1:-1]\n",
    "print(f\"my_list[7:1:-1]: {slice7}\") # Output: [7, 6, 5, 4, 3, 2]\n",
    "\n",
    "# Using negative indices\n",
    "# Get the last three elements\n",
    "slice8 = my_list[-3:]\n",
    "print(f\"my_list[-3:]: {slice}\")"
   ]
  },
  {
   "cell_type": "code",
   "execution_count": 15,
   "id": "18c855dc",
   "metadata": {},
   "outputs": [
    {
     "name": "stdout",
     "output_type": "stream",
     "text": [
      "1\n",
      "2\n",
      "3\n",
      "4\n",
      "5\n",
      "6\n",
      "7\n",
      "8\n",
      "9\n",
      "9\n",
      "1\n",
      "2\n",
      "3\n",
      "4\n",
      "56\n",
      "5\n",
      "432\n"
     ]
    }
   ],
   "source": [
    "l1 = [1,2,3,4,5,6,7,8,9,9,1,2,3,4,56,5,432]\n",
    "for i in range(0, len(l1)):\n",
    "    print(l1[i])\n"
   ]
  },
  {
   "cell_type": "code",
   "execution_count": 2,
   "id": "68a4d0c6",
   "metadata": {},
   "outputs": [
    {
     "name": "stdout",
     "output_type": "stream",
     "text": [
      "['3']\n",
      "Original list: ['3']\n",
      "List with duplicates removed: ['3']\n",
      "['3']\n",
      "Original list: ['3']\n",
      "List with duplicates removed: ['3']\n"
     ]
    }
   ],
   "source": [
    "lst = []\n",
    "n = int(input(\"Enter number of elements: \"))\n",
    "for i in range(n):\n",
    "    ele = input(\"Enter element: \")\n",
    "    lst.append(ele)\n",
    "\n",
    "\n",
    "result = []\n",
    "for item in lst:\n",
    "    if item not in result:\n",
    "        result.append(item)\n",
    "print(result)  \n",
    "user_input = input(\"Enter a list of elements separated by spaces: \")\n",
    "user_list = user_input.split()\n",
    "\n",
    "unique_list = []\n",
    "for item in user_list:\n",
    "    if item not in unique_list:\n",
    "        unique_list.append(item)\n",
    "\n",
    "print(\"Original list:\", user_list)\n",
    "print(\"List with duplicates removed:\", unique_list)\n",
    "lst = []\n",
    "n = int(input(\"Enter number of elements: \"))\n",
    "for i in range(n):\n",
    "    ele = input(\"Enter element: \")\n",
    "    lst.append(ele)\n",
    "\n",
    "\n",
    "result = []\n",
    "for item in lst:\n",
    "    if item not in result:\n",
    "        result.append(item)\n",
    "print(result)  \n",
    "user_input = input(\"Enter a list of elements separated by spaces: \")\n",
    "user_list = user_input.split()\n",
    " \n",
    "unique_list = []\n",
    "for item in user_list:\n",
    "    if item not in unique_list:\n",
    "        unique_list.append(item)\n",
    "\n",
    "print(\"Original list:\", user_list)\n",
    "print(\"List with duplicates removed:\", unique_list)"
   ]
  },
  {
   "cell_type": "code",
   "execution_count": 9,
   "id": "5d0abc05",
   "metadata": {},
   "outputs": [
    {
     "name": "stdout",
     "output_type": "stream",
     "text": [
      "[9, 4, 7, 8, 1]\n",
      "the list updated is  [9, 4, 7, 8, 1, 5]\n"
     ]
    }
   ],
   "source": [
    "n = int(input(\"Enter a list \"))\n",
    "list= []\n",
    "for i in range(n):\n",
    "    elem = int(input(\"Enter a no. \"))\n",
    "    list.append(elem)\n",
    "print(list)\n",
    "a = int(input(\"Enter no . for the entrace\"))\n",
    "b = int(input(\"Enter no . for the entrace\"))\n",
    "if a not in list:\n",
    "    print(\"Element not found\")\n",
    "else :\n",
    "    i = list.index(a)\n",
    "    list.insert(a,b)\n",
    "print(\"the list updated is \", list)"
   ]
  },
  {
   "cell_type": "code",
   "execution_count": 11,
   "id": "cfc90f37",
   "metadata": {},
   "outputs": [
    {
     "name": "stdout",
     "output_type": "stream",
     "text": [
      "[1, 2, 3, 4, 3, 2, 3, 2, 4]\n"
     ]
    }
   ],
   "source": [
    "li1=[1,2,3,4,3,2,3,2,4]\n",
    "a=int(input(\"key :\"))\n",
    "b=int(input(\"value :\"))\n",
    "for i in li1:\n",
    "    if i==a:\n",
    "        li1.insert(li1.index(i),b)\n",
    "    else:\n",
    "        continue\n",
    "print(li1)"
   ]
  },
  {
   "cell_type": "code",
   "execution_count": 16,
   "id": "0f10b0c4",
   "metadata": {},
   "outputs": [
    {
     "name": "stdout",
     "output_type": "stream",
     "text": [
      "['apple', 'pear', 'mango', 'Tamrind', 'Herkask']\n"
     ]
    }
   ],
   "source": [
    "fruits = [\"apple\", \"pear\", \"mango\",\"Tamrind\",\"Herkask\",\"Plnk\"]\n",
    "new_list = []\n",
    "\n",
    "for fruit in fruits:\n",
    "    if \"a\" in fruit:\n",
    "        new_list.append(fruit)\n",
    "\n",
    "print(new_list)\n"
   ]
  },
  {
   "cell_type": "code",
   "execution_count": 18,
   "id": "d4b3199c",
   "metadata": {},
   "outputs": [
    {
     "name": "stdout",
     "output_type": "stream",
     "text": [
      "['apple', 'pear', 'mango', 'Tamrind', 'Herkask']\n"
     ]
    }
   ],
   "source": [
    "fruits = [\"apple\", \"pear\", \"mango\",\"Tamrind\",\"Herkask\",\"Plnk\"]\n",
    "new_list = []\n",
    "\n",
    "l2 = [i for i in fruits if 'a' in i]\n",
    "print(l2)"
   ]
  },
  {
   "cell_type": "code",
   "execution_count": 26,
   "id": "f5cb2933",
   "metadata": {},
   "outputs": [
    {
     "name": "stdout",
     "output_type": "stream",
     "text": [
      "[12, 14, 18, 12, 12]\n"
     ]
    }
   ],
   "source": [
    "n = int(input(\"Enter a list \"))\n",
    "list= []\n",
    "for i in range(n):\n",
    "    elem = int(input(\"Enter a no. \"))\n",
    "    list.append(elem)\n",
    "l2 = [i*2 for i in list ]\n",
    "print(l2)"
   ]
  },
  {
   "cell_type": "code",
   "execution_count": null,
   "id": "055183da",
   "metadata": {},
   "outputs": [
    {
     "name": "stdout",
     "output_type": "stream",
     "text": [
      "[6, 2, 8, 4]\n"
     ]
    }
   ],
   "source": [
    "my_list = [int(input(\"Enter a no. \")) for _ in range(n)]\n",
    "l2 = [i for i in my_list if i%2 ==0]\n",
    "print(l2)"
   ]
  },
  {
   "cell_type": "code",
   "execution_count": 29,
   "id": "813ef6db",
   "metadata": {},
   "outputs": [
    {
     "name": "stdout",
     "output_type": "stream",
     "text": [
      "[2, 4, 6, 8]\n"
     ]
    }
   ],
   "source": [
    "\n",
    "l2 = [i for i in range (1,10 )if i%2 ==0]\n",
    "print(l2)"
   ]
  },
  {
   "cell_type": "code",
   "execution_count": 6,
   "id": "648d2b7b",
   "metadata": {},
   "outputs": [
    {
     "name": "stdout",
     "output_type": "stream",
     "text": [
      "['P', 'Y', 'T', 'H', 'O', 'N']\n"
     ]
    }
   ],
   "source": [
    "l2 = [i.upper() for i in \"Python\"]\n",
    "print(l2)"
   ]
  },
  {
   "cell_type": "code",
   "execution_count": null,
   "id": "b3c39816",
   "metadata": {},
   "outputs": [],
   "source": []
  },
  {
   "cell_type": "code",
   "execution_count": 5,
   "id": "378c596a",
   "metadata": {},
   "outputs": [
    {
     "ename": "TypeError",
     "evalue": "'list' object is not callable",
     "output_type": "error",
     "traceback": [
      "\u001b[31m---------------------------------------------------------------------------\u001b[39m",
      "\u001b[31mTypeError\u001b[39m                                 Traceback (most recent call last)",
      "\u001b[36mCell\u001b[39m\u001b[36m \u001b[39m\u001b[32mIn[5]\u001b[39m\u001b[32m, line 5\u001b[39m\n\u001b[32m      3\u001b[39m list1 = [\u001b[32m1\u001b[39m,\u001b[32m2\u001b[39m,\u001b[32m3\u001b[39m,\u001b[32m45\u001b[39m,\u001b[32m5\u001b[39m]\n\u001b[32m      4\u001b[39m res = \u001b[38;5;28mmap\u001b[39m(xyz, list1)\n\u001b[32m----> \u001b[39m\u001b[32m5\u001b[39m \u001b[38;5;28mprint\u001b[39m(\u001b[38;5;28;43mlist\u001b[39;49m\u001b[43m(\u001b[49m\u001b[43mres\u001b[49m\u001b[43m)\u001b[49m)\n",
      "\u001b[31mTypeError\u001b[39m: 'list' object is not callable"
     ]
    }
   ],
   "source": [
    "def xyz(i):\n",
    "    return i*2\n",
    "list1 = [1,2,3,45,5]\n",
    "res = map(xyz, list1)\n",
    "print(list(res))"
   ]
  },
  {
   "cell_type": "code",
   "execution_count": 3,
   "id": "1cecfdcb",
   "metadata": {},
   "outputs": [
    {
     "ename": "TypeError",
     "evalue": "'list' object is not callable",
     "output_type": "error",
     "traceback": [
      "\u001b[31m---------------------------------------------------------------------------\u001b[39m",
      "\u001b[31mTypeError\u001b[39m                                 Traceback (most recent call last)",
      "\u001b[36mCell\u001b[39m\u001b[36m \u001b[39m\u001b[32mIn[3]\u001b[39m\u001b[32m, line 5\u001b[39m\n\u001b[32m      3\u001b[39m list2 = [\u001b[32m1\u001b[39m,\u001b[32m2\u001b[39m,\u001b[32m3\u001b[39m,\u001b[32m4\u001b[39m,\u001b[32m5\u001b[39m]\n\u001b[32m      4\u001b[39m res = \u001b[38;5;28mmap\u001b[39m(fun,list2)\n\u001b[32m----> \u001b[39m\u001b[32m5\u001b[39m \u001b[38;5;28mprint\u001b[39m(\u001b[38;5;28;43mlist\u001b[39;49m\u001b[43m(\u001b[49m\u001b[43mres\u001b[49m\u001b[43m)\u001b[49m)\n",
      "\u001b[31mTypeError\u001b[39m: 'list' object is not callable"
     ]
    }
   ],
   "source": [
    "def fun(i):\n",
    "    return i*2 \n",
    "list2 = [1,2,3,4,5]\n",
    "res = map(fun,list2)\n",
    "print(list(res))"
   ]
  },
  {
   "cell_type": "code",
   "execution_count": null,
   "id": "bb488b58",
   "metadata": {},
   "outputs": [],
   "source": []
  },
  {
   "cell_type": "code",
   "execution_count": 19,
   "id": "1502d722",
   "metadata": {},
   "outputs": [
    {
     "name": "stdout",
     "output_type": "stream",
     "text": [
      "---List Inputter----\n",
      "[1, 5, 55, 5]\n"
     ]
    },
    {
     "ename": "TypeError",
     "evalue": "list() takes 0 positional arguments but 1 was given",
     "output_type": "error",
     "traceback": [
      "\u001b[31m---------------------------------------------------------------------------\u001b[39m",
      "\u001b[31mTypeError\u001b[39m                                 Traceback (most recent call last)",
      "\u001b[36mCell\u001b[39m\u001b[36m \u001b[39m\u001b[32mIn[19]\u001b[39m\u001b[32m, line 18\u001b[39m\n\u001b[32m     15\u001b[39m     \u001b[38;5;28;01mreturn\u001b[39;00m n % \u001b[32m2\u001b[39m == \u001b[32m0\u001b[39m\n\u001b[32m     17\u001b[39m res = \u001b[38;5;28mfilter\u001b[39m(f, mylist)\n\u001b[32m---> \u001b[39m\u001b[32m18\u001b[39m \u001b[38;5;28mprint\u001b[39m(\u001b[38;5;28;43mlist\u001b[39;49m\u001b[43m(\u001b[49m\u001b[43mres\u001b[49m\u001b[43m)\u001b[49m) \u001b[38;5;66;03m# Now this uses Python's built-in list function\u001b[39;00m\n",
      "\u001b[31mTypeError\u001b[39m: list() takes 0 positional arguments but 1 was given"
     ]
    }
   ],
   "source": [
    "\n",
    "def input_list():\n",
    "    bslist = []\n",
    "    while True:\n",
    "        item = input(\"Enter a number or type 'done': \")\n",
    "        if item.lower() == 'done':\n",
    "            break\n",
    "        bslist.append(int(item))\n",
    "    return bslist\n",
    "\n",
    "print(\"---List Inputter----\")\n",
    "mylist = input_list()\n",
    "print(mylist)\n",
    "\n",
    "def f(n):\n",
    "    return n % 2 == 0\n",
    "\n",
    "res = filter(f, mylist)\n",
    "print(list(res)) # Now this uses Python's built-in list function\n"
   ]
  },
  {
   "cell_type": "code",
   "execution_count": 2,
   "id": "8a73eac1",
   "metadata": {},
   "outputs": [
    {
     "name": "stdout",
     "output_type": "stream",
     "text": [
      "Even numbers: [2, 4, 6]\n",
      "Product of all numbers: 720\n"
     ]
    }
   ],
   "source": [
    "from functools import reduce\n",
    "\n",
    "numbers = [1, 2, 3, 4, 5, 6]\n",
    "\n",
    "# Filter to keep only even numbers\n",
    "evens = list(filter(lambda x: x % 2 == 0, numbers))\n",
    "\n",
    "# Reduce to compute the product of all numbers\n",
    "product = reduce(lambda x, y: x * y, numbers)\n",
    "\n",
    "print(\"Even numbers:\", evens)\n",
    "print(\"Product of all numbers:\", product)\n"
   ]
  },
  {
   "cell_type": "code",
   "execution_count": null,
   "id": "7558c088",
   "metadata": {},
   "outputs": [],
   "source": []
  },
  {
   "cell_type": "code",
   "execution_count": 1,
   "id": "9adf7dc2",
   "metadata": {},
   "outputs": [
    {
     "name": "stdout",
     "output_type": "stream",
     "text": [
      "[2, 4, 6]\n"
     ]
    }
   ],
   "source": [
    "res=[]\n",
    "def xyz(n):\n",
    "    return n%2==0\n",
    "lst = [1,2,3,4,5,6]\n",
    "res = list(filter(xyz, lst))\n",
    "print(res)"
   ]
  },
  {
   "cell_type": "code",
   "execution_count": null,
   "id": "ce8b3aae",
   "metadata": {},
   "outputs": [
    {
     "name": "stdout",
     "output_type": "stream",
     "text": [
      "[27, 64]\n",
      "[27]\n"
     ]
    }
   ],
   "source": [
    "n = int(input(\"Enter no.\"))\n",
    "list1 = []\n",
    "for i in range(n):\n",
    "    ele = int(input(\"Enter element\"))\n",
    "    list1.append(ele ** 3)\n",
    "print(list1)\n",
    "\n",
    "def fn(a):\n",
    "    return a % 2 != 0\n",
    "\n",
    "res = filter(fn, list1)\n",
    "print(list(res))                   \n"
   ]
  },
  {
   "cell_type": "code",
   "execution_count": 15,
   "id": "efbed9d6",
   "metadata": {},
   "outputs": [
    {
     "name": "stdout",
     "output_type": "stream",
     "text": [
      "1 2 3 \n",
      "4 5 6 \n"
     ]
    }
   ],
   "source": [
    "matrix = [\n",
    "    [1,2,3],\n",
    "    [4,5,6]\n",
    "]\n",
    "for row in matrix :\n",
    "    for element in row :\n",
    "        print (element , end = \" \")\n",
    "    print()"
   ]
  },
  {
   "cell_type": "code",
   "execution_count": 17,
   "id": "ff76e90f",
   "metadata": {},
   "outputs": [
    {
     "ename": "ValueError",
     "evalue": "invalid literal for int() with base 10: ''",
     "output_type": "error",
     "traceback": [
      "\u001b[31m---------------------------------------------------------------------------\u001b[39m",
      "\u001b[31mValueError\u001b[39m                                Traceback (most recent call last)",
      "\u001b[36mCell\u001b[39m\u001b[36m \u001b[39m\u001b[32mIn[17]\u001b[39m\u001b[32m, line 7\u001b[39m\n\u001b[32m      5\u001b[39m     rows = []\n\u001b[32m      6\u001b[39m     \u001b[38;5;28;01mfor\u001b[39;00m j \u001b[38;5;129;01min\u001b[39;00m \u001b[38;5;28mrange\u001b[39m(m):\n\u001b[32m----> \u001b[39m\u001b[32m7\u001b[39m         x = \u001b[38;5;28;43mint\u001b[39;49m\u001b[43m(\u001b[49m\u001b[38;5;28;43minput\u001b[39;49m\u001b[43m(\u001b[49m\u001b[33;43mf\u001b[39;49m\u001b[33;43m\"\u001b[39;49m\u001b[33;43menter element \u001b[39;49m\u001b[38;5;132;43;01m{\u001b[39;49;00m\u001b[43mi\u001b[49m\u001b[38;5;132;43;01m}\u001b[39;49;00m\u001b[38;5;132;43;01m{\u001b[39;49;00m\u001b[43mj\u001b[49m\u001b[38;5;132;43;01m}\u001b[39;49;00m\u001b[33;43m\"\u001b[39;49m\u001b[43m)\u001b[49m\u001b[43m)\u001b[49m\n\u001b[32m      8\u001b[39m         row.append(l1)\n\u001b[32m      9\u001b[39m l1.append (row)\n",
      "\u001b[31mValueError\u001b[39m: invalid literal for int() with base 10: ''"
     ]
    }
   ],
   "source": [
    "n = int(input(\"Enter no. rows\"))\n",
    "m = int(input('Enter columns'))\n",
    "l1 =[]\n",
    "for i in range (n):\n",
    "    rows = []\n",
    "    for j in range(m):\n",
    "        x = int(input(f\"enter element {i}{j}\"))\n",
    "        row.append(l1)\n",
    "l1.append (row)"
   ]
  }
 ],
 "metadata": {
  "kernelspec": {
   "display_name": "Python 3",
   "language": "python",
   "name": "python3"
  },
  "language_info": {
   "codemirror_mode": {
    "name": "ipython",
    "version": 3
   },
   "file_extension": ".py",
   "mimetype": "text/x-python",
   "name": "python",
   "nbconvert_exporter": "python",
   "pygments_lexer": "ipython3",
   "version": "3.13.7"
  }
 },
 "nbformat": 4,
 "nbformat_minor": 5
}
