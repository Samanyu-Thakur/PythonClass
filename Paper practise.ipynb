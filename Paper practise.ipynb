{
 "cells": [
  {
   "cell_type": "code",
   "execution_count": null,
   "id": "2bc4a18d",
   "metadata": {},
   "outputs": [],
   "source": [
    "# Valid variable names\n",
    "my_variable = 10\n",
    "private_variable = 20\n",
    "anotherVariable = 30\n",
    "variable_with_numbers_123 = 40\n",
    "UPPER_CASE_CONSTANT = 50\n",
    "Num1 = 90\n",
    "# Invalid variable names (will cause syntax errors or are generally bad practice)\n",
    "# 1variable = 60  # Cannot start with a number\n",
    "# my-variable = 70 # Hyphens are not allowed\n",
    "# class = 80       # 'class' is a reserved keyword\n",
    "# my variable = 90 # Spaces are not allowed\n",
    "11"
   ]
  }
 ],
 "metadata": {
  "language_info": {
   "name": "python"
  }
 },
 "nbformat": 4,
 "nbformat_minor": 5
}
